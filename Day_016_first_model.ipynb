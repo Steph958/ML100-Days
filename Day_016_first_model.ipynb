{
 "cells": [
  {
   "cell_type": "code",
   "execution_count": 6,
   "metadata": {},
   "outputs": [],
   "source": [
    "# Import 需要的套件\n",
    "import os\n",
    "import numpy as np \n",
    "import pandas as pd\n",
    "\n",
    "import matplotlib.pyplot as plt\n",
    "%matplotlib inline"
   ]
  },
  {
   "cell_type": "markdown",
   "metadata": {},
   "source": [
    "### 之前做過的處理"
   ]
  },
  {
   "cell_type": "code",
   "execution_count": 7,
   "metadata": {
    "collapsed": true
   },
   "outputs": [],
   "source": [
    "# 設定 data_path\n",
    "dir_data = './data/'\n",
    "f_app_train = os.path.join(dir_data, 'application_train.csv')\n",
    "f_app_test = os.path.join(dir_data, 'application_test.csv')\n",
    "\n",
    "app_train = pd.read_csv(f_app_train)\n",
    "app_test = pd.read_csv(f_app_test)\n",
    "\n",
    "from sklearn.preprocessing import LabelEncoder\n",
    "\n",
    "# Create a label encoder object\n",
    "le = LabelEncoder()\n",
    "le_count = 0\n",
    "\n",
    "# Iterate through the columns\n",
    "for col in app_train:\n",
    "    if app_train[col].dtype == 'object':\n",
    "        # If 2 or fewer unique categories\n",
    "        if len(list(app_train[col].unique())) <= 2:\n",
    "            # Train on the training data\n",
    "            le.fit(app_train[col])\n",
    "            # Transform both training and testing data\n",
    "            app_train[col] = le.transform(app_train[col])\n",
    "            app_test[col] = le.transform(app_test[col])\n",
    "            \n",
    "            # Keep track of how many columns were label encoded\n",
    "            le_count += 1\n",
    "            \n",
    "app_train = pd.get_dummies(app_train)\n",
    "app_test = pd.get_dummies(app_test)\n",
    "\n",
    "# Create an anomalous flag column\n",
    "app_train['DAYS_EMPLOYED_ANOM'] = app_train[\"DAYS_EMPLOYED\"] == 365243\n",
    "app_train['DAYS_EMPLOYED'].replace({365243: np.nan}, inplace = True)\n",
    "# also apply to testing dataset\n",
    "app_test['DAYS_EMPLOYED_ANOM'] = app_test[\"DAYS_EMPLOYED\"] == 365243\n",
    "app_test[\"DAYS_EMPLOYED\"].replace({365243: np.nan}, inplace = True)\n",
    "\n",
    "# absolute the value of DAYS_BIRTH\n",
    "app_train['DAYS_BIRTH'] = abs(app_train['DAYS_BIRTH'])\n",
    "app_test['DAYS_BIRTH'] = abs(app_test['DAYS_BIRTH'])\n"
   ]
  },
  {
   "cell_type": "code",
   "execution_count": 8,
   "metadata": {},
   "outputs": [
    {
     "name": "stdout",
     "output_type": "stream",
     "text": [
      "(307511, 244)\n",
      "(48744, 240)\n"
     ]
    }
   ],
   "source": [
    "print(app_train.shape)\n",
    "print(app_test.shape)"
   ]
  },
  {
   "cell_type": "markdown",
   "metadata": {},
   "source": [
    "### 做好前處理\n",
    "開始擬合模型之前，我們要確保 training & testing data 的欄位數量一致，原因是因為 One hot encoding 會製造多的欄位，有些類別出現在 training data 而沒有出現 testing data 中，我們就要把這些多餘的欄位去除"
   ]
  },
  {
   "cell_type": "code",
   "execution_count": 9,
   "metadata": {
    "collapsed": true
   },
   "outputs": [],
   "source": [
    "train_labels = app_train['TARGET']\n",
    "\n",
    "# Align the training and testing data, keep only columns present in both dataframes\n",
    "app_train, app_test = app_train.align(app_test, join = 'inner', axis = 1)\n",
    "\n",
    "# Add the target back in\n",
    "app_train['TARGET'] = train_labels"
   ]
  },
  {
   "cell_type": "code",
   "execution_count": 10,
   "metadata": {},
   "outputs": [
    {
     "name": "stdout",
     "output_type": "stream",
     "text": [
      "(307511, 241)\n",
      "(48744, 240)\n"
     ]
    }
   ],
   "source": [
    "print(app_train.shape)\n",
    "print(app_test.shape)"
   ]
  },
  {
   "cell_type": "code",
   "execution_count": 13,
   "metadata": {},
   "outputs": [
    {
     "data": {
      "text/plain": [
       "['SK_ID_CURR',\n",
       " 'NAME_CONTRACT_TYPE',\n",
       " 'FLAG_OWN_CAR',\n",
       " 'FLAG_OWN_REALTY',\n",
       " 'CNT_CHILDREN',\n",
       " 'AMT_INCOME_TOTAL',\n",
       " 'AMT_CREDIT',\n",
       " 'AMT_ANNUITY',\n",
       " 'AMT_GOODS_PRICE',\n",
       " 'REGION_POPULATION_RELATIVE',\n",
       " 'DAYS_BIRTH',\n",
       " 'DAYS_EMPLOYED',\n",
       " 'DAYS_REGISTRATION',\n",
       " 'DAYS_ID_PUBLISH',\n",
       " 'OWN_CAR_AGE',\n",
       " 'FLAG_MOBIL',\n",
       " 'FLAG_EMP_PHONE',\n",
       " 'FLAG_WORK_PHONE',\n",
       " 'FLAG_CONT_MOBILE',\n",
       " 'FLAG_PHONE',\n",
       " 'FLAG_EMAIL',\n",
       " 'CNT_FAM_MEMBERS',\n",
       " 'REGION_RATING_CLIENT',\n",
       " 'REGION_RATING_CLIENT_W_CITY',\n",
       " 'HOUR_APPR_PROCESS_START',\n",
       " 'REG_REGION_NOT_LIVE_REGION',\n",
       " 'REG_REGION_NOT_WORK_REGION',\n",
       " 'LIVE_REGION_NOT_WORK_REGION',\n",
       " 'REG_CITY_NOT_LIVE_CITY',\n",
       " 'REG_CITY_NOT_WORK_CITY',\n",
       " 'LIVE_CITY_NOT_WORK_CITY',\n",
       " 'EXT_SOURCE_1',\n",
       " 'EXT_SOURCE_2',\n",
       " 'EXT_SOURCE_3',\n",
       " 'APARTMENTS_AVG',\n",
       " 'BASEMENTAREA_AVG',\n",
       " 'YEARS_BEGINEXPLUATATION_AVG',\n",
       " 'YEARS_BUILD_AVG',\n",
       " 'COMMONAREA_AVG',\n",
       " 'ELEVATORS_AVG',\n",
       " 'ENTRANCES_AVG',\n",
       " 'FLOORSMAX_AVG',\n",
       " 'FLOORSMIN_AVG',\n",
       " 'LANDAREA_AVG',\n",
       " 'LIVINGAPARTMENTS_AVG',\n",
       " 'LIVINGAREA_AVG',\n",
       " 'NONLIVINGAPARTMENTS_AVG',\n",
       " 'NONLIVINGAREA_AVG',\n",
       " 'APARTMENTS_MODE',\n",
       " 'BASEMENTAREA_MODE',\n",
       " 'YEARS_BEGINEXPLUATATION_MODE',\n",
       " 'YEARS_BUILD_MODE',\n",
       " 'COMMONAREA_MODE',\n",
       " 'ELEVATORS_MODE',\n",
       " 'ENTRANCES_MODE',\n",
       " 'FLOORSMAX_MODE',\n",
       " 'FLOORSMIN_MODE',\n",
       " 'LANDAREA_MODE',\n",
       " 'LIVINGAPARTMENTS_MODE',\n",
       " 'LIVINGAREA_MODE',\n",
       " 'NONLIVINGAPARTMENTS_MODE',\n",
       " 'NONLIVINGAREA_MODE',\n",
       " 'APARTMENTS_MEDI',\n",
       " 'BASEMENTAREA_MEDI',\n",
       " 'YEARS_BEGINEXPLUATATION_MEDI',\n",
       " 'YEARS_BUILD_MEDI',\n",
       " 'COMMONAREA_MEDI',\n",
       " 'ELEVATORS_MEDI',\n",
       " 'ENTRANCES_MEDI',\n",
       " 'FLOORSMAX_MEDI',\n",
       " 'FLOORSMIN_MEDI',\n",
       " 'LANDAREA_MEDI',\n",
       " 'LIVINGAPARTMENTS_MEDI',\n",
       " 'LIVINGAREA_MEDI',\n",
       " 'NONLIVINGAPARTMENTS_MEDI',\n",
       " 'NONLIVINGAREA_MEDI',\n",
       " 'TOTALAREA_MODE',\n",
       " 'OBS_30_CNT_SOCIAL_CIRCLE',\n",
       " 'DEF_30_CNT_SOCIAL_CIRCLE',\n",
       " 'OBS_60_CNT_SOCIAL_CIRCLE',\n",
       " 'DEF_60_CNT_SOCIAL_CIRCLE',\n",
       " 'DAYS_LAST_PHONE_CHANGE',\n",
       " 'FLAG_DOCUMENT_2',\n",
       " 'FLAG_DOCUMENT_3',\n",
       " 'FLAG_DOCUMENT_4',\n",
       " 'FLAG_DOCUMENT_5',\n",
       " 'FLAG_DOCUMENT_6',\n",
       " 'FLAG_DOCUMENT_7',\n",
       " 'FLAG_DOCUMENT_8',\n",
       " 'FLAG_DOCUMENT_9',\n",
       " 'FLAG_DOCUMENT_10',\n",
       " 'FLAG_DOCUMENT_11',\n",
       " 'FLAG_DOCUMENT_12',\n",
       " 'FLAG_DOCUMENT_13',\n",
       " 'FLAG_DOCUMENT_14',\n",
       " 'FLAG_DOCUMENT_15',\n",
       " 'FLAG_DOCUMENT_16',\n",
       " 'FLAG_DOCUMENT_17',\n",
       " 'FLAG_DOCUMENT_18',\n",
       " 'FLAG_DOCUMENT_19',\n",
       " 'FLAG_DOCUMENT_20',\n",
       " 'FLAG_DOCUMENT_21',\n",
       " 'AMT_REQ_CREDIT_BUREAU_HOUR',\n",
       " 'AMT_REQ_CREDIT_BUREAU_DAY',\n",
       " 'AMT_REQ_CREDIT_BUREAU_WEEK',\n",
       " 'AMT_REQ_CREDIT_BUREAU_MON',\n",
       " 'AMT_REQ_CREDIT_BUREAU_QRT',\n",
       " 'AMT_REQ_CREDIT_BUREAU_YEAR',\n",
       " 'CODE_GENDER_F',\n",
       " 'CODE_GENDER_M',\n",
       " 'NAME_TYPE_SUITE_Children',\n",
       " 'NAME_TYPE_SUITE_Family',\n",
       " 'NAME_TYPE_SUITE_Group of people',\n",
       " 'NAME_TYPE_SUITE_Other_A',\n",
       " 'NAME_TYPE_SUITE_Other_B',\n",
       " 'NAME_TYPE_SUITE_Spouse, partner',\n",
       " 'NAME_TYPE_SUITE_Unaccompanied',\n",
       " 'NAME_INCOME_TYPE_Businessman',\n",
       " 'NAME_INCOME_TYPE_Commercial associate',\n",
       " 'NAME_INCOME_TYPE_Pensioner',\n",
       " 'NAME_INCOME_TYPE_State servant',\n",
       " 'NAME_INCOME_TYPE_Student',\n",
       " 'NAME_INCOME_TYPE_Unemployed',\n",
       " 'NAME_INCOME_TYPE_Working',\n",
       " 'NAME_EDUCATION_TYPE_Academic degree',\n",
       " 'NAME_EDUCATION_TYPE_Higher education',\n",
       " 'NAME_EDUCATION_TYPE_Incomplete higher',\n",
       " 'NAME_EDUCATION_TYPE_Lower secondary',\n",
       " 'NAME_EDUCATION_TYPE_Secondary / secondary special',\n",
       " 'NAME_FAMILY_STATUS_Civil marriage',\n",
       " 'NAME_FAMILY_STATUS_Married',\n",
       " 'NAME_FAMILY_STATUS_Separated',\n",
       " 'NAME_FAMILY_STATUS_Single / not married',\n",
       " 'NAME_FAMILY_STATUS_Widow',\n",
       " 'NAME_HOUSING_TYPE_Co-op apartment',\n",
       " 'NAME_HOUSING_TYPE_House / apartment',\n",
       " 'NAME_HOUSING_TYPE_Municipal apartment',\n",
       " 'NAME_HOUSING_TYPE_Office apartment',\n",
       " 'NAME_HOUSING_TYPE_Rented apartment',\n",
       " 'NAME_HOUSING_TYPE_With parents',\n",
       " 'OCCUPATION_TYPE_Accountants',\n",
       " 'OCCUPATION_TYPE_Cleaning staff',\n",
       " 'OCCUPATION_TYPE_Cooking staff',\n",
       " 'OCCUPATION_TYPE_Core staff',\n",
       " 'OCCUPATION_TYPE_Drivers',\n",
       " 'OCCUPATION_TYPE_HR staff',\n",
       " 'OCCUPATION_TYPE_High skill tech staff',\n",
       " 'OCCUPATION_TYPE_IT staff',\n",
       " 'OCCUPATION_TYPE_Laborers',\n",
       " 'OCCUPATION_TYPE_Low-skill Laborers',\n",
       " 'OCCUPATION_TYPE_Managers',\n",
       " 'OCCUPATION_TYPE_Medicine staff',\n",
       " 'OCCUPATION_TYPE_Private service staff',\n",
       " 'OCCUPATION_TYPE_Realty agents',\n",
       " 'OCCUPATION_TYPE_Sales staff',\n",
       " 'OCCUPATION_TYPE_Secretaries',\n",
       " 'OCCUPATION_TYPE_Security staff',\n",
       " 'OCCUPATION_TYPE_Waiters/barmen staff',\n",
       " 'WEEKDAY_APPR_PROCESS_START_FRIDAY',\n",
       " 'WEEKDAY_APPR_PROCESS_START_MONDAY',\n",
       " 'WEEKDAY_APPR_PROCESS_START_SATURDAY',\n",
       " 'WEEKDAY_APPR_PROCESS_START_SUNDAY',\n",
       " 'WEEKDAY_APPR_PROCESS_START_THURSDAY',\n",
       " 'WEEKDAY_APPR_PROCESS_START_TUESDAY',\n",
       " 'WEEKDAY_APPR_PROCESS_START_WEDNESDAY',\n",
       " 'ORGANIZATION_TYPE_Advertising',\n",
       " 'ORGANIZATION_TYPE_Agriculture',\n",
       " 'ORGANIZATION_TYPE_Bank',\n",
       " 'ORGANIZATION_TYPE_Business Entity Type 1',\n",
       " 'ORGANIZATION_TYPE_Business Entity Type 2',\n",
       " 'ORGANIZATION_TYPE_Business Entity Type 3',\n",
       " 'ORGANIZATION_TYPE_Cleaning',\n",
       " 'ORGANIZATION_TYPE_Construction',\n",
       " 'ORGANIZATION_TYPE_Culture',\n",
       " 'ORGANIZATION_TYPE_Electricity',\n",
       " 'ORGANIZATION_TYPE_Emergency',\n",
       " 'ORGANIZATION_TYPE_Government',\n",
       " 'ORGANIZATION_TYPE_Hotel',\n",
       " 'ORGANIZATION_TYPE_Housing',\n",
       " 'ORGANIZATION_TYPE_Industry: type 1',\n",
       " 'ORGANIZATION_TYPE_Industry: type 10',\n",
       " 'ORGANIZATION_TYPE_Industry: type 11',\n",
       " 'ORGANIZATION_TYPE_Industry: type 12',\n",
       " 'ORGANIZATION_TYPE_Industry: type 13',\n",
       " 'ORGANIZATION_TYPE_Industry: type 2',\n",
       " 'ORGANIZATION_TYPE_Industry: type 3',\n",
       " 'ORGANIZATION_TYPE_Industry: type 4',\n",
       " 'ORGANIZATION_TYPE_Industry: type 5',\n",
       " 'ORGANIZATION_TYPE_Industry: type 6',\n",
       " 'ORGANIZATION_TYPE_Industry: type 7',\n",
       " 'ORGANIZATION_TYPE_Industry: type 8',\n",
       " 'ORGANIZATION_TYPE_Industry: type 9',\n",
       " 'ORGANIZATION_TYPE_Insurance',\n",
       " 'ORGANIZATION_TYPE_Kindergarten',\n",
       " 'ORGANIZATION_TYPE_Legal Services',\n",
       " 'ORGANIZATION_TYPE_Medicine',\n",
       " 'ORGANIZATION_TYPE_Military',\n",
       " 'ORGANIZATION_TYPE_Mobile',\n",
       " 'ORGANIZATION_TYPE_Other',\n",
       " 'ORGANIZATION_TYPE_Police',\n",
       " 'ORGANIZATION_TYPE_Postal',\n",
       " 'ORGANIZATION_TYPE_Realtor',\n",
       " 'ORGANIZATION_TYPE_Religion',\n",
       " 'ORGANIZATION_TYPE_Restaurant',\n",
       " 'ORGANIZATION_TYPE_School',\n",
       " 'ORGANIZATION_TYPE_Security',\n",
       " 'ORGANIZATION_TYPE_Security Ministries',\n",
       " 'ORGANIZATION_TYPE_Self-employed',\n",
       " 'ORGANIZATION_TYPE_Services',\n",
       " 'ORGANIZATION_TYPE_Telecom',\n",
       " 'ORGANIZATION_TYPE_Trade: type 1',\n",
       " 'ORGANIZATION_TYPE_Trade: type 2',\n",
       " 'ORGANIZATION_TYPE_Trade: type 3',\n",
       " 'ORGANIZATION_TYPE_Trade: type 4',\n",
       " 'ORGANIZATION_TYPE_Trade: type 5',\n",
       " 'ORGANIZATION_TYPE_Trade: type 6',\n",
       " 'ORGANIZATION_TYPE_Trade: type 7',\n",
       " 'ORGANIZATION_TYPE_Transport: type 1',\n",
       " 'ORGANIZATION_TYPE_Transport: type 2',\n",
       " 'ORGANIZATION_TYPE_Transport: type 3',\n",
       " 'ORGANIZATION_TYPE_Transport: type 4',\n",
       " 'ORGANIZATION_TYPE_University',\n",
       " 'ORGANIZATION_TYPE_XNA',\n",
       " 'FONDKAPREMONT_MODE_not specified',\n",
       " 'FONDKAPREMONT_MODE_org spec account',\n",
       " 'FONDKAPREMONT_MODE_reg oper account',\n",
       " 'FONDKAPREMONT_MODE_reg oper spec account',\n",
       " 'HOUSETYPE_MODE_block of flats',\n",
       " 'HOUSETYPE_MODE_specific housing',\n",
       " 'HOUSETYPE_MODE_terraced house',\n",
       " 'WALLSMATERIAL_MODE_Block',\n",
       " 'WALLSMATERIAL_MODE_Mixed',\n",
       " 'WALLSMATERIAL_MODE_Monolithic',\n",
       " 'WALLSMATERIAL_MODE_Others',\n",
       " 'WALLSMATERIAL_MODE_Panel',\n",
       " 'WALLSMATERIAL_MODE_Stone, brick',\n",
       " 'WALLSMATERIAL_MODE_Wooden',\n",
       " 'EMERGENCYSTATE_MODE_No',\n",
       " 'EMERGENCYSTATE_MODE_Yes',\n",
       " 'DAYS_EMPLOYED_ANOM']"
      ]
     },
     "execution_count": 13,
     "metadata": {},
     "output_type": "execute_result"
    }
   ],
   "source": [
    "app_test.columns.tolist()"
   ]
  },
  {
   "cell_type": "code",
   "execution_count": null,
   "metadata": {
    "collapsed": true
   },
   "outputs": [],
   "source": []
  },
  {
   "cell_type": "code",
   "execution_count": 4,
   "metadata": {},
   "outputs": [
    {
     "name": "stdout",
     "output_type": "stream",
     "text": [
      "Training data shape:  (307511, 240)\n",
      "Testing data shape:  (48744, 240)\n"
     ]
    }
   ],
   "source": [
    "from sklearn.preprocessing import MinMaxScaler, Imputer\n",
    "\n",
    "# Drop the target from the training data\n",
    "if 'TARGET' in app_train:\n",
    "    train = app_train.drop(labels = ['TARGET'], axis=1)\n",
    "else:\n",
    "    train = app_train.copy()\n",
    "    \n",
    "# Feature names\n",
    "features = list(train.columns)\n",
    "\n",
    "# Copy of the testing data\n",
    "test = app_test.copy()\n",
    "\n",
    "# Median imputation of missing values\n",
    "imputer = Imputer(strategy = 'median')\n",
    "\n",
    "# Scale each feature to 0-1\n",
    "scaler = MinMaxScaler(feature_range = (0, 1))\n",
    "\n",
    "# Fit on the training data\n",
    "imputer.fit(train)\n",
    "\n",
    "# Transform both training and testing data\n",
    "train = imputer.transform(train)\n",
    "test = imputer.transform(app_test)\n",
    "\n",
    "# Repeat with the scaler\n",
    "scaler.fit(train)\n",
    "train = scaler.transform(train)\n",
    "test = scaler.transform(test)\n",
    "\n",
    "print('Training data shape: ', train.shape)\n",
    "print('Testing data shape: ', test.shape)"
   ]
  },
  {
   "cell_type": "markdown",
   "metadata": {},
   "source": [
    "### Fit the model"
   ]
  },
  {
   "cell_type": "code",
   "execution_count": 5,
   "metadata": {},
   "outputs": [
    {
     "data": {
      "text/plain": [
       "LogisticRegression(C=0.0001, class_weight=None, dual=False,\n",
       "          fit_intercept=True, intercept_scaling=1, max_iter=100,\n",
       "          multi_class='ovr', n_jobs=1, penalty='l2', random_state=None,\n",
       "          solver='liblinear', tol=0.0001, verbose=0, warm_start=False)"
      ]
     },
     "execution_count": 5,
     "metadata": {},
     "output_type": "execute_result"
    }
   ],
   "source": [
    "from sklearn.linear_model import LogisticRegression\n",
    "\n",
    "# Make the model with the specified regularization parameter\n",
    "log_reg = LogisticRegression(C = 0.0001)\n",
    "\n",
    "# Train on the training data\n",
    "log_reg.fit(train, train_labels)"
   ]
  },
  {
   "cell_type": "markdown",
   "metadata": {},
   "source": [
    "模型 fit 好以後，就可以用來預測 testing data 中的客戶違約遲繳貸款的機率咯! (記得要用 predict_proba 才會輸出機率)"
   ]
  },
  {
   "cell_type": "code",
   "execution_count": 6,
   "metadata": {
    "collapsed": true
   },
   "outputs": [],
   "source": [
    "# Make predictions\n",
    "# Make sure to select the second column only\n",
    "log_reg_pred = log_reg.predict_proba(test)[:, 1]"
   ]
  },
  {
   "cell_type": "markdown",
   "metadata": {},
   "source": [
    "### 儲存預測結果"
   ]
  },
  {
   "cell_type": "code",
   "execution_count": 7,
   "metadata": {},
   "outputs": [
    {
     "name": "stderr",
     "output_type": "stream",
     "text": [
      "C:\\Users\\tjk06\\Anaconda3\\lib\\site-packages\\ipykernel_launcher.py:3: SettingWithCopyWarning: \n",
      "A value is trying to be set on a copy of a slice from a DataFrame.\n",
      "Try using .loc[row_indexer,col_indexer] = value instead\n",
      "\n",
      "See the caveats in the documentation: http://pandas.pydata.org/pandas-docs/stable/indexing.html#indexing-view-versus-copy\n",
      "  This is separate from the ipykernel package so we can avoid doing imports until\n"
     ]
    },
    {
     "data": {
      "text/html": [
       "<div>\n",
       "<style>\n",
       "    .dataframe thead tr:only-child th {\n",
       "        text-align: right;\n",
       "    }\n",
       "\n",
       "    .dataframe thead th {\n",
       "        text-align: left;\n",
       "    }\n",
       "\n",
       "    .dataframe tbody tr th {\n",
       "        vertical-align: top;\n",
       "    }\n",
       "</style>\n",
       "<table border=\"1\" class=\"dataframe\">\n",
       "  <thead>\n",
       "    <tr style=\"text-align: right;\">\n",
       "      <th></th>\n",
       "      <th>SK_ID_CURR</th>\n",
       "      <th>TARGET</th>\n",
       "    </tr>\n",
       "  </thead>\n",
       "  <tbody>\n",
       "    <tr>\n",
       "      <th>0</th>\n",
       "      <td>100001</td>\n",
       "      <td>0.065051</td>\n",
       "    </tr>\n",
       "    <tr>\n",
       "      <th>1</th>\n",
       "      <td>100005</td>\n",
       "      <td>0.126401</td>\n",
       "    </tr>\n",
       "    <tr>\n",
       "      <th>2</th>\n",
       "      <td>100013</td>\n",
       "      <td>0.081239</td>\n",
       "    </tr>\n",
       "    <tr>\n",
       "      <th>3</th>\n",
       "      <td>100028</td>\n",
       "      <td>0.061509</td>\n",
       "    </tr>\n",
       "    <tr>\n",
       "      <th>4</th>\n",
       "      <td>100038</td>\n",
       "      <td>0.128308</td>\n",
       "    </tr>\n",
       "  </tbody>\n",
       "</table>\n",
       "</div>"
      ],
      "text/plain": [
       "   SK_ID_CURR    TARGET\n",
       "0      100001  0.065051\n",
       "1      100005  0.126401\n",
       "2      100013  0.081239\n",
       "3      100028  0.061509\n",
       "4      100038  0.128308"
      ]
     },
     "execution_count": 7,
     "metadata": {},
     "output_type": "execute_result"
    }
   ],
   "source": [
    "# Submission dataframe\n",
    "submit = app_test[['SK_ID_CURR']]\n",
    "submit['TARGET'] = log_reg_pred\n",
    "\n",
    "submit.head()"
   ]
  },
  {
   "cell_type": "markdown",
   "metadata": {},
   "source": [
    "## 練習時間\n",
    "將你的結果存成 csv, 上傳你的第一份 Kaggle 成績\n",
    "\n",
    "Hints: https://stackoverflow.com/questions/16923281/pandas-writing-dataframe-to-csv-file"
   ]
  },
  {
   "cell_type": "code",
   "execution_count": null,
   "metadata": {
    "collapsed": true
   },
   "outputs": [],
   "source": []
  }
 ],
 "metadata": {
  "kernelspec": {
   "display_name": "Python 3",
   "language": "python",
   "name": "python3"
  },
  "language_info": {
   "codemirror_mode": {
    "name": "ipython",
    "version": 3
   },
   "file_extension": ".py",
   "mimetype": "text/x-python",
   "name": "python",
   "nbconvert_exporter": "python",
   "pygments_lexer": "ipython3",
   "version": "3.6.3"
  }
 },
 "nbformat": 4,
 "nbformat_minor": 2
}
