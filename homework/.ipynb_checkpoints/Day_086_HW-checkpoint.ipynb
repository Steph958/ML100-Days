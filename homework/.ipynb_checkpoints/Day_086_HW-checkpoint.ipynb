{
 "cells": [
  {
   "cell_type": "markdown",
   "metadata": {},
   "source": [
    "## Work\n",
    "1. 試比較 save_best_only 與否的差異\n",
    "2. 請僅存入將 save_weights_only 設定為 True, 並嘗試 reset ipynb 並將模型與權重重新建回並預測 x_test"
   ]
  },
  {
   "cell_type": "code",
   "execution_count": 1,
   "metadata": {},
   "outputs": [
    {
     "name": "stderr",
     "output_type": "stream",
     "text": [
      "Using TensorFlow backend.\n"
     ]
    }
   ],
   "source": [
    "import os\n",
    "import keras\n",
    "\n",
    "# Disable GPU\n",
    "os.environ[\"CUDA_VISIBLE_DEVICES\"] = \"\""
   ]
  },
  {
   "cell_type": "code",
   "execution_count": 2,
   "metadata": {},
   "outputs": [],
   "source": [
    "train, test = keras.datasets.cifar10.load_data()"
   ]
  },
  {
   "cell_type": "code",
   "execution_count": 3,
   "metadata": {},
   "outputs": [],
   "source": [
    "## 資料前處理\n",
    "def preproc_x(x, flatten=True):\n",
    "    x = x / 255.\n",
    "    if flatten:\n",
    "        x = x.reshape((len(x), -1))\n",
    "    return x\n",
    "\n",
    "def preproc_y(y, num_classes=10):\n",
    "    if y.shape[-1] == 1:\n",
    "        y = keras.utils.to_categorical(y, num_classes)\n",
    "    return y    "
   ]
  },
  {
   "cell_type": "code",
   "execution_count": 4,
   "metadata": {},
   "outputs": [],
   "source": [
    "x_train, y_train = train\n",
    "x_test, y_test = test\n",
    "\n",
    "# Preproc the inputs\n",
    "x_train = preproc_x(x_train)\n",
    "x_test = preproc_x(x_test)\n",
    "\n",
    "# Preprc the outputs\n",
    "y_train = preproc_y(y_train)\n",
    "y_test = preproc_y(y_test)"
   ]
  },
  {
   "cell_type": "code",
   "execution_count": 5,
   "metadata": {},
   "outputs": [],
   "source": [
    "from keras.layers import BatchNormalization\n",
    "def build_mlp(input_shape, output_units=10, num_neurons=[512, 256, 128]):\n",
    "    input_layer = keras.layers.Input(input_shape)\n",
    "    \n",
    "    for i, n_units in enumerate(num_neurons):\n",
    "        if i == 0:\n",
    "            x = keras.layers.Dense(units=n_units, \n",
    "                                   activation=\"relu\", \n",
    "                                   name=\"hidden_layer\"+str(i+1))(input_layer)\n",
    "            x = BatchNormalization()(x)\n",
    "        else:\n",
    "            x = keras.layers.Dense(units=n_units, \n",
    "                                   activation=\"relu\", \n",
    "                                   name=\"hidden_layer\"+str(i+1))(x)\n",
    "            x = BatchNormalization()(x)\n",
    "    \n",
    "    out = keras.layers.Dense(units=output_units, activation=\"softmax\", name=\"output\")(x)\n",
    "    \n",
    "    model = keras.models.Model(inputs=[input_layer], outputs=[out])\n",
    "    return model"
   ]
  },
  {
   "cell_type": "code",
   "execution_count": 6,
   "metadata": {},
   "outputs": [],
   "source": [
    "## 超參數設定\n",
    "LEARNING_RATE = 1e-3\n",
    "EPOCHS = 50\n",
    "BATCH_SIZE = 1024\n",
    "MOMENTUM = 0.95"
   ]
  },
  {
   "cell_type": "code",
   "execution_count": 9,
   "metadata": {},
   "outputs": [],
   "source": [
    "# 載入 Callbacks\n",
    "from keras.callbacks import ModelCheckpoint\n",
    "filepath= \"weights_best_false.hdf5\"\n",
    "model_ckpt = ModelCheckpoint(filepath=filepath, \n",
    "                             monitor=\"val_loss\", \n",
    "                             save_best_only=False)"
   ]
  },
  {
   "cell_type": "code",
   "execution_count": 11,
   "metadata": {
    "scrolled": true
   },
   "outputs": [
    {
     "name": "stdout",
     "output_type": "stream",
     "text": [
      "_________________________________________________________________\n",
      "Layer (type)                 Output Shape              Param #   \n",
      "=================================================================\n",
      "input_3 (InputLayer)         (None, 3072)              0         \n",
      "_________________________________________________________________\n",
      "hidden_layer1 (Dense)        (None, 512)               1573376   \n",
      "_________________________________________________________________\n",
      "batch_normalization_7 (Batch (None, 512)               2048      \n",
      "_________________________________________________________________\n",
      "hidden_layer2 (Dense)        (None, 256)               131328    \n",
      "_________________________________________________________________\n",
      "batch_normalization_8 (Batch (None, 256)               1024      \n",
      "_________________________________________________________________\n",
      "hidden_layer3 (Dense)        (None, 128)               32896     \n",
      "_________________________________________________________________\n",
      "batch_normalization_9 (Batch (None, 128)               512       \n",
      "_________________________________________________________________\n",
      "output (Dense)               (None, 10)                1290      \n",
      "=================================================================\n",
      "Total params: 1,742,474\n",
      "Trainable params: 1,740,682\n",
      "Non-trainable params: 1,792\n",
      "_________________________________________________________________\n",
      "Train on 50000 samples, validate on 10000 samples\n",
      "Epoch 1/50\n",
      "50000/50000 [==============================] - 10s 198us/step - loss: 2.1915 - acc: 0.2763 - val_loss: 2.1403 - val_acc: 0.3285\n",
      "Epoch 2/50\n",
      "50000/50000 [==============================] - 9s 177us/step - loss: 1.7406 - acc: 0.3944 - val_loss: 1.8212 - val_acc: 0.3834\n",
      "Epoch 3/50\n",
      "50000/50000 [==============================] - 9s 179us/step - loss: 1.6168 - acc: 0.4344 - val_loss: 1.6854 - val_acc: 0.4110\n",
      "Epoch 4/50\n",
      "50000/50000 [==============================] - 9s 176us/step - loss: 1.5438 - acc: 0.4599 - val_loss: 1.6280 - val_acc: 0.4281\n",
      "Epoch 5/50\n",
      "50000/50000 [==============================] - 9s 176us/step - loss: 1.4860 - acc: 0.4807 - val_loss: 1.5903 - val_acc: 0.4414\n",
      "Epoch 6/50\n",
      "50000/50000 [==============================] - 9s 179us/step - loss: 1.4428 - acc: 0.4963 - val_loss: 1.5532 - val_acc: 0.4500\n",
      "Epoch 7/50\n",
      "50000/50000 [==============================] - 9s 189us/step - loss: 1.4022 - acc: 0.5106 - val_loss: 1.5424 - val_acc: 0.4535\n",
      "Epoch 8/50\n",
      "50000/50000 [==============================] - 9s 185us/step - loss: 1.3671 - acc: 0.5247 - val_loss: 1.5263 - val_acc: 0.4619\n",
      "Epoch 9/50\n",
      "50000/50000 [==============================] - 9s 182us/step - loss: 1.3340 - acc: 0.5363 - val_loss: 1.5183 - val_acc: 0.4660\n",
      "Epoch 10/50\n",
      "50000/50000 [==============================] - 9s 183us/step - loss: 1.3036 - acc: 0.5475 - val_loss: 1.5033 - val_acc: 0.4736\n",
      "Epoch 11/50\n",
      "50000/50000 [==============================] - 9s 186us/step - loss: 1.2756 - acc: 0.5575 - val_loss: 1.5015 - val_acc: 0.4707\n",
      "Epoch 12/50\n",
      "50000/50000 [==============================] - 9s 176us/step - loss: 1.2473 - acc: 0.5689 - val_loss: 1.4823 - val_acc: 0.4802\n",
      "Epoch 13/50\n",
      "50000/50000 [==============================] - 9s 177us/step - loss: 1.2225 - acc: 0.5768 - val_loss: 1.4909 - val_acc: 0.4707\n",
      "Epoch 14/50\n",
      "50000/50000 [==============================] - 9s 176us/step - loss: 1.1968 - acc: 0.5868 - val_loss: 1.4698 - val_acc: 0.4876\n",
      "Epoch 15/50\n",
      "50000/50000 [==============================] - 9s 178us/step - loss: 1.1733 - acc: 0.5966 - val_loss: 1.4683 - val_acc: 0.4871\n",
      "Epoch 16/50\n",
      "50000/50000 [==============================] - 9s 177us/step - loss: 1.1485 - acc: 0.6048 - val_loss: 1.4660 - val_acc: 0.4880\n",
      "Epoch 17/50\n",
      "50000/50000 [==============================] - 9s 181us/step - loss: 1.1275 - acc: 0.6137 - val_loss: 1.4732 - val_acc: 0.4865\n",
      "Epoch 18/50\n",
      "50000/50000 [==============================] - 9s 178us/step - loss: 1.1047 - acc: 0.6211 - val_loss: 1.4561 - val_acc: 0.4929\n",
      "Epoch 19/50\n",
      "50000/50000 [==============================] - 9s 177us/step - loss: 1.0809 - acc: 0.6319 - val_loss: 1.4503 - val_acc: 0.4907\n",
      "Epoch 20/50\n",
      "50000/50000 [==============================] - 9s 178us/step - loss: 1.0581 - acc: 0.6383 - val_loss: 1.4634 - val_acc: 0.4894\n",
      "Epoch 21/50\n",
      "50000/50000 [==============================] - 9s 177us/step - loss: 1.0373 - acc: 0.6478 - val_loss: 1.4588 - val_acc: 0.4880\n",
      "Epoch 22/50\n",
      "50000/50000 [==============================] - 9s 177us/step - loss: 1.0165 - acc: 0.6550 - val_loss: 1.4637 - val_acc: 0.4920\n",
      "Epoch 23/50\n",
      "50000/50000 [==============================] - 9s 176us/step - loss: 0.9938 - acc: 0.6632 - val_loss: 1.4562 - val_acc: 0.4930\n",
      "Epoch 24/50\n",
      "50000/50000 [==============================] - 9s 176us/step - loss: 0.9735 - acc: 0.6712 - val_loss: 1.4719 - val_acc: 0.4957\n",
      "Epoch 25/50\n",
      "50000/50000 [==============================] - 9s 177us/step - loss: 0.9530 - acc: 0.6793 - val_loss: 1.4687 - val_acc: 0.4958\n",
      "Epoch 26/50\n",
      "50000/50000 [==============================] - 9s 177us/step - loss: 0.9333 - acc: 0.6884 - val_loss: 1.4816 - val_acc: 0.4938\n",
      "Epoch 27/50\n",
      "50000/50000 [==============================] - 9s 181us/step - loss: 0.9141 - acc: 0.6941 - val_loss: 1.4757 - val_acc: 0.4948\n",
      "Epoch 28/50\n",
      "50000/50000 [==============================] - 9s 181us/step - loss: 0.8948 - acc: 0.7019 - val_loss: 1.4774 - val_acc: 0.4942\n",
      "Epoch 29/50\n",
      "50000/50000 [==============================] - 9s 182us/step - loss: 0.8722 - acc: 0.7114 - val_loss: 1.4762 - val_acc: 0.4980\n",
      "Epoch 30/50\n",
      "50000/50000 [==============================] - 9s 184us/step - loss: 0.8534 - acc: 0.7173 - val_loss: 1.4890 - val_acc: 0.4995\n",
      "Epoch 31/50\n",
      "50000/50000 [==============================] - 9s 180us/step - loss: 0.8318 - acc: 0.7266 - val_loss: 1.4903 - val_acc: 0.4965\n",
      "Epoch 32/50\n",
      "50000/50000 [==============================] - 9s 182us/step - loss: 0.8134 - acc: 0.7328 - val_loss: 1.5103 - val_acc: 0.4940\n",
      "Epoch 33/50\n",
      "50000/50000 [==============================] - 9s 184us/step - loss: 0.7949 - acc: 0.7416 - val_loss: 1.5086 - val_acc: 0.4966\n",
      "Epoch 34/50\n",
      "50000/50000 [==============================] - 9s 181us/step - loss: 0.7770 - acc: 0.7478 - val_loss: 1.5115 - val_acc: 0.4947\n",
      "Epoch 35/50\n",
      "50000/50000 [==============================] - 9s 183us/step - loss: 0.7560 - acc: 0.7576 - val_loss: 1.5190 - val_acc: 0.4960\n",
      "Epoch 36/50\n",
      "50000/50000 [==============================] - 9s 183us/step - loss: 0.7367 - acc: 0.7633 - val_loss: 1.5418 - val_acc: 0.4940\n",
      "Epoch 37/50\n",
      "50000/50000 [==============================] - 9s 179us/step - loss: 0.7203 - acc: 0.7694 - val_loss: 1.5393 - val_acc: 0.4953\n",
      "Epoch 38/50\n",
      "50000/50000 [==============================] - 9s 176us/step - loss: 0.7005 - acc: 0.7793 - val_loss: 1.5399 - val_acc: 0.4955\n",
      "Epoch 39/50\n",
      "50000/50000 [==============================] - 9s 176us/step - loss: 0.6823 - acc: 0.7858 - val_loss: 1.5639 - val_acc: 0.4945\n",
      "Epoch 40/50\n",
      "50000/50000 [==============================] - 9s 177us/step - loss: 0.6632 - acc: 0.7939 - val_loss: 1.5699 - val_acc: 0.4924\n",
      "Epoch 41/50\n",
      "50000/50000 [==============================] - 9s 177us/step - loss: 0.6462 - acc: 0.8004 - val_loss: 1.5650 - val_acc: 0.4950\n",
      "Epoch 42/50\n",
      "50000/50000 [==============================] - 9s 181us/step - loss: 0.6279 - acc: 0.8088 - val_loss: 1.5938 - val_acc: 0.4930\n",
      "Epoch 43/50\n",
      "50000/50000 [==============================] - 9s 176us/step - loss: 0.6089 - acc: 0.8168 - val_loss: 1.5859 - val_acc: 0.4968\n",
      "Epoch 44/50\n",
      "50000/50000 [==============================] - 9s 177us/step - loss: 0.5913 - acc: 0.8234 - val_loss: 1.5905 - val_acc: 0.4963\n",
      "Epoch 45/50\n",
      "50000/50000 [==============================] - 9s 177us/step - loss: 0.5739 - acc: 0.8292 - val_loss: 1.6185 - val_acc: 0.4936\n",
      "Epoch 46/50\n",
      "50000/50000 [==============================] - 9s 177us/step - loss: 0.5576 - acc: 0.8360 - val_loss: 1.6329 - val_acc: 0.4967\n",
      "Epoch 47/50\n",
      "50000/50000 [==============================] - 9s 176us/step - loss: 0.5394 - acc: 0.8435 - val_loss: 1.6343 - val_acc: 0.4892\n",
      "Epoch 48/50\n",
      "50000/50000 [==============================] - 9s 177us/step - loss: 0.5231 - acc: 0.8498 - val_loss: 1.6553 - val_acc: 0.4939\n",
      "Epoch 49/50\n"
     ]
    },
    {
     "name": "stdout",
     "output_type": "stream",
     "text": [
      "50000/50000 [==============================] - 9s 181us/step - loss: 0.5076 - acc: 0.8561 - val_loss: 1.6832 - val_acc: 0.4923\n",
      "Epoch 50/50\n",
      "50000/50000 [==============================] - 9s 175us/step - loss: 0.4888 - acc: 0.8651 - val_loss: 1.6688 - val_acc: 0.4925\n",
      "10000/10000 [==============================] - 2s 159us/step\n"
     ]
    }
   ],
   "source": [
    "model = build_mlp(input_shape=x_train.shape[1:])\n",
    "model.summary()\n",
    "optimizer = keras.optimizers.SGD(lr=LEARNING_RATE, nesterov=True, momentum=MOMENTUM)\n",
    "model.compile(loss=\"categorical_crossentropy\", metrics=[\"accuracy\"], optimizer=optimizer)\n",
    "\n",
    "model.fit(x_train, y_train, \n",
    "          epochs=EPOCHS, \n",
    "          batch_size=BATCH_SIZE, \n",
    "          validation_data=(x_test, y_test), \n",
    "          shuffle=True,\n",
    "          callbacks=[model_ckpt]\n",
    "         )\n",
    "\n",
    "# Collect results\n",
    "train_loss = model.history.history[\"loss\"]\n",
    "valid_loss = model.history.history[\"val_loss\"]\n",
    "train_acc = model.history.history[\"acc\"]\n",
    "valid_acc = model.history.history[\"val_acc\"]\n",
    "\n",
    "# Load back\n",
    "model = keras.models.load_model(filepath)\n",
    "loss_loadback, acc_loadback = model.evaluate(x_test, y_test)"
   ]
  },
  {
   "cell_type": "code",
   "execution_count": 12,
   "metadata": {},
   "outputs": [
    {
     "data": {
      "image/png": "[encoded data removed]",
      "text/plain": [
       "<Figure size 432x288 with 1 Axes>"
      ]
     },
     "metadata": {
      "needs_background": "light"
     },
     "output_type": "display_data"
    },
    {
     "data": {
      "image/png": "[encoded data removed]",
      "text/plain": [
       "<Figure size 432x288 with 1 Axes>"
      ]
     },
     "metadata": {
      "needs_background": "light"
     },
     "output_type": "display_data"
    }
   ],
   "source": [
    "import matplotlib.pyplot as plt\n",
    "%matplotlib inline\n",
    "\n",
    "plt.plot(range(len(train_loss)), train_loss, label=\"train loss\")\n",
    "plt.plot(range(len(valid_loss)), valid_loss, label=\"valid loss\")\n",
    "plt.hlines(y=loss_loadback, xmin=0, xmax=len(train_loss), colors='r', linestyles='--')\n",
    "plt.legend()\n",
    "plt.title(\"Loss\")\n",
    "plt.show()\n",
    "\n",
    "plt.plot(range(len(train_acc)), train_acc, label=\"train accuracy\")\n",
    "plt.plot(range(len(valid_acc)), valid_acc, label=\"valid accuracy\")\n",
    "plt.hlines(y=acc_loadback, xmin=0, xmax=len(train_loss), colors='r', linestyles='--')\n",
    "plt.legend()\n",
    "plt.title(\"Accuracy\")\n",
    "plt.show()"
   ]
  },
  {
   "cell_type": "code",
   "execution_count": 13,
   "metadata": {},
   "outputs": [
    {
     "data": {
      "text/plain": [
       "1.6687661249160766"
      ]
     },
     "execution_count": 13,
     "metadata": {},
     "output_type": "execute_result"
    }
   ],
   "source": [
    "loss_loadback"
   ]
  },
  {
   "cell_type": "code",
   "execution_count": 14,
   "metadata": {},
   "outputs": [
    {
     "data": {
      "text/plain": [
       "0.4925"
      ]
     },
     "execution_count": 14,
     "metadata": {},
     "output_type": "execute_result"
    }
   ],
   "source": [
    "acc_loadback"
   ]
  },
  {
   "cell_type": "code",
   "execution_count": 15,
   "metadata": {},
   "outputs": [],
   "source": [
    "filepath= \"weights_best_false.hdf5\"\n",
    "model_ckpt = ModelCheckpoint(filepath=filepath, \n",
    "                             monitor=\"val_loss\", \n",
    "                             save_best_only=True)"
   ]
  },
  {
   "cell_type": "code",
   "execution_count": 16,
   "metadata": {},
   "outputs": [
    {
     "name": "stdout",
     "output_type": "stream",
     "text": [
      "_________________________________________________________________\n",
      "Layer (type)                 Output Shape              Param #   \n",
      "=================================================================\n",
      "input_4 (InputLayer)         (None, 3072)              0         \n",
      "_________________________________________________________________\n",
      "hidden_layer1 (Dense)        (None, 512)               1573376   \n",
      "_________________________________________________________________\n",
      "batch_normalization_10 (Batc (None, 512)               2048      \n",
      "_________________________________________________________________\n",
      "hidden_layer2 (Dense)        (None, 256)               131328    \n",
      "_________________________________________________________________\n",
      "batch_normalization_11 (Batc (None, 256)               1024      \n",
      "_________________________________________________________________\n",
      "hidden_layer3 (Dense)        (None, 128)               32896     \n",
      "_________________________________________________________________\n",
      "batch_normalization_12 (Batc (None, 128)               512       \n",
      "_________________________________________________________________\n",
      "output (Dense)               (None, 10)                1290      \n",
      "=================================================================\n",
      "Total params: 1,742,474\n",
      "Trainable params: 1,740,682\n",
      "Non-trainable params: 1,792\n",
      "_________________________________________________________________\n",
      "Train on 50000 samples, validate on 10000 samples\n",
      "Epoch 1/50\n",
      "50000/50000 [==============================] - 10s 202us/step - loss: 2.2054 - acc: 0.2746 - val_loss: 2.0993 - val_acc: 0.3118\n",
      "Epoch 2/50\n",
      "50000/50000 [==============================] - 9s 182us/step - loss: 1.7446 - acc: 0.3911 - val_loss: 1.8053 - val_acc: 0.3824\n",
      "Epoch 3/50\n",
      "50000/50000 [==============================] - 9s 179us/step - loss: 1.6174 - acc: 0.4331 - val_loss: 1.6940 - val_acc: 0.4067\n",
      "Epoch 4/50\n",
      "50000/50000 [==============================] - 9s 181us/step - loss: 1.5434 - acc: 0.4608 - val_loss: 1.6334 - val_acc: 0.4291\n",
      "Epoch 5/50\n",
      "50000/50000 [==============================] - 9s 180us/step - loss: 1.4883 - acc: 0.4804 - val_loss: 1.5924 - val_acc: 0.4391\n",
      "Epoch 6/50\n",
      "50000/50000 [==============================] - 9s 179us/step - loss: 1.4421 - acc: 0.4957 - val_loss: 1.5716 - val_acc: 0.4485\n",
      "Epoch 7/50\n",
      "50000/50000 [==============================] - 9s 179us/step - loss: 1.4030 - acc: 0.5105 - val_loss: 1.5502 - val_acc: 0.4540\n",
      "Epoch 8/50\n",
      "50000/50000 [==============================] - 9s 178us/step - loss: 1.3672 - acc: 0.5249 - val_loss: 1.5318 - val_acc: 0.4612\n",
      "Epoch 9/50\n",
      "50000/50000 [==============================] - 9s 185us/step - loss: 1.3376 - acc: 0.5338 - val_loss: 1.5207 - val_acc: 0.4656\n",
      "Epoch 10/50\n",
      "50000/50000 [==============================] - 9s 177us/step - loss: 1.3041 - acc: 0.5467 - val_loss: 1.5083 - val_acc: 0.4661\n",
      "Epoch 11/50\n",
      "50000/50000 [==============================] - 9s 177us/step - loss: 1.2754 - acc: 0.5599 - val_loss: 1.4981 - val_acc: 0.4716\n",
      "Epoch 12/50\n",
      "50000/50000 [==============================] - 9s 178us/step - loss: 1.2505 - acc: 0.5689 - val_loss: 1.4880 - val_acc: 0.4808\n",
      "Epoch 13/50\n",
      "50000/50000 [==============================] - 9s 177us/step - loss: 1.2230 - acc: 0.5784 - val_loss: 1.4840 - val_acc: 0.4840\n",
      "Epoch 14/50\n",
      "50000/50000 [==============================] - 9s 177us/step - loss: 1.1985 - acc: 0.5874 - val_loss: 1.4705 - val_acc: 0.4830\n",
      "Epoch 15/50\n",
      "50000/50000 [==============================] - 9s 177us/step - loss: 1.1740 - acc: 0.5970 - val_loss: 1.4814 - val_acc: 0.4850\n",
      "Epoch 16/50\n",
      "50000/50000 [==============================] - 9s 178us/step - loss: 1.1503 - acc: 0.6065 - val_loss: 1.4718 - val_acc: 0.4886\n",
      "Epoch 17/50\n",
      "50000/50000 [==============================] - 9s 177us/step - loss: 1.1295 - acc: 0.6140 - val_loss: 1.4751 - val_acc: 0.4841\n",
      "Epoch 18/50\n",
      "50000/50000 [==============================] - 9s 177us/step - loss: 1.1059 - acc: 0.6230 - val_loss: 1.4789 - val_acc: 0.4829\n",
      "Epoch 19/50\n",
      "50000/50000 [==============================] - 9s 177us/step - loss: 1.0860 - acc: 0.6300 - val_loss: 1.4687 - val_acc: 0.4862\n",
      "Epoch 20/50\n",
      "50000/50000 [==============================] - 9s 177us/step - loss: 1.0622 - acc: 0.6395 - val_loss: 1.4671 - val_acc: 0.4852\n",
      "Epoch 21/50\n",
      "50000/50000 [==============================] - 9s 177us/step - loss: 1.0414 - acc: 0.6486 - val_loss: 1.4776 - val_acc: 0.4866\n",
      "Epoch 22/50\n",
      "50000/50000 [==============================] - 9s 177us/step - loss: 1.0197 - acc: 0.6553 - val_loss: 1.4701 - val_acc: 0.4866\n",
      "Epoch 23/50\n",
      "50000/50000 [==============================] - 9s 178us/step - loss: 0.9985 - acc: 0.6627 - val_loss: 1.4646 - val_acc: 0.4911\n",
      "Epoch 24/50\n",
      "50000/50000 [==============================] - 9s 177us/step - loss: 0.9775 - acc: 0.6728 - val_loss: 1.4660 - val_acc: 0.4931\n",
      "Epoch 25/50\n",
      "50000/50000 [==============================] - 9s 177us/step - loss: 0.9569 - acc: 0.6806 - val_loss: 1.4661 - val_acc: 0.4905\n",
      "Epoch 26/50\n",
      "50000/50000 [==============================] - 9s 178us/step - loss: 0.9387 - acc: 0.6865 - val_loss: 1.4772 - val_acc: 0.4911\n",
      "Epoch 27/50\n",
      "50000/50000 [==============================] - 9s 178us/step - loss: 0.9199 - acc: 0.6930 - val_loss: 1.4747 - val_acc: 0.4906\n",
      "Epoch 28/50\n",
      "50000/50000 [==============================] - 9s 179us/step - loss: 0.8968 - acc: 0.7038 - val_loss: 1.4939 - val_acc: 0.4891\n",
      "Epoch 29/50\n",
      "50000/50000 [==============================] - 9s 178us/step - loss: 0.8783 - acc: 0.7105 - val_loss: 1.4822 - val_acc: 0.4915\n",
      "Epoch 30/50\n",
      "50000/50000 [==============================] - 9s 178us/step - loss: 0.8582 - acc: 0.7178 - val_loss: 1.4924 - val_acc: 0.4919\n",
      "Epoch 31/50\n",
      "50000/50000 [==============================] - 9s 178us/step - loss: 0.8407 - acc: 0.7237 - val_loss: 1.4933 - val_acc: 0.4909\n",
      "Epoch 32/50\n",
      "50000/50000 [==============================] - 9s 177us/step - loss: 0.8222 - acc: 0.7320 - val_loss: 1.4962 - val_acc: 0.4942\n",
      "Epoch 33/50\n",
      "50000/50000 [==============================] - 9s 177us/step - loss: 0.8020 - acc: 0.7411 - val_loss: 1.4991 - val_acc: 0.4924\n",
      "Epoch 34/50\n",
      "50000/50000 [==============================] - 9s 179us/step - loss: 0.7819 - acc: 0.7488 - val_loss: 1.5218 - val_acc: 0.4923\n",
      "Epoch 35/50\n",
      "50000/50000 [==============================] - 10s 194us/step - loss: 0.7630 - acc: 0.7550 - val_loss: 1.5301 - val_acc: 0.4887\n",
      "Epoch 36/50\n",
      "50000/50000 [==============================] - 11s 213us/step - loss: 0.7454 - acc: 0.7637 - val_loss: 1.5286 - val_acc: 0.4892\n",
      "Epoch 37/50\n",
      "50000/50000 [==============================] - 9s 186us/step - loss: 0.7265 - acc: 0.7699 - val_loss: 1.5373 - val_acc: 0.4936\n",
      "Epoch 38/50\n",
      "50000/50000 [==============================] - 9s 178us/step - loss: 0.7075 - acc: 0.7790 - val_loss: 1.5620 - val_acc: 0.4923\n",
      "Epoch 39/50\n",
      "50000/50000 [==============================] - 9s 178us/step - loss: 0.6891 - acc: 0.7842 - val_loss: 1.5559 - val_acc: 0.4940\n",
      "Epoch 40/50\n",
      "50000/50000 [==============================] - 9s 178us/step - loss: 0.6698 - acc: 0.7940 - val_loss: 1.5520 - val_acc: 0.4925\n",
      "Epoch 41/50\n",
      "50000/50000 [==============================] - 9s 178us/step - loss: 0.6541 - acc: 0.8008 - val_loss: 1.6010 - val_acc: 0.4857\n",
      "Epoch 42/50\n",
      "50000/50000 [==============================] - 9s 178us/step - loss: 0.6350 - acc: 0.8070 - val_loss: 1.5925 - val_acc: 0.4880\n",
      "Epoch 43/50\n",
      "50000/50000 [==============================] - 9s 178us/step - loss: 0.6188 - acc: 0.8120 - val_loss: 1.5973 - val_acc: 0.4898\n",
      "Epoch 44/50\n",
      "50000/50000 [==============================] - 9s 178us/step - loss: 0.6010 - acc: 0.8199 - val_loss: 1.6131 - val_acc: 0.4862\n",
      "Epoch 45/50\n",
      "50000/50000 [==============================] - 9s 178us/step - loss: 0.5825 - acc: 0.8294 - val_loss: 1.6304 - val_acc: 0.4878\n",
      "Epoch 46/50\n",
      "50000/50000 [==============================] - 9s 178us/step - loss: 0.5641 - acc: 0.8347 - val_loss: 1.6370 - val_acc: 0.4864\n",
      "Epoch 47/50\n",
      "50000/50000 [==============================] - 9s 178us/step - loss: 0.5492 - acc: 0.8406 - val_loss: 1.6366 - val_acc: 0.4953\n",
      "Epoch 48/50\n",
      "50000/50000 [==============================] - 9s 178us/step - loss: 0.5322 - acc: 0.8478 - val_loss: 1.6471 - val_acc: 0.4903\n",
      "Epoch 49/50\n"
     ]
    },
    {
     "name": "stdout",
     "output_type": "stream",
     "text": [
      "50000/50000 [==============================] - 9s 177us/step - loss: 0.5148 - acc: 0.8558 - val_loss: 1.6790 - val_acc: 0.4870\n",
      "Epoch 50/50\n",
      "50000/50000 [==============================] - 9s 179us/step - loss: 0.4994 - acc: 0.8620 - val_loss: 1.6824 - val_acc: 0.4843\n"
     ]
    },
    {
     "data": {
      "text/plain": [
       "<keras.callbacks.History at 0x111d9375fd0>"
      ]
     },
     "execution_count": 16,
     "metadata": {},
     "output_type": "execute_result"
    }
   ],
   "source": [
    "model = build_mlp(input_shape=x_train.shape[1:])\n",
    "model.summary()\n",
    "optimizer = keras.optimizers.SGD(lr=LEARNING_RATE, nesterov=True, momentum=MOMENTUM)\n",
    "model.compile(loss=\"categorical_crossentropy\", metrics=[\"accuracy\"], optimizer=optimizer)\n",
    "\n",
    "model.fit(x_train, y_train, \n",
    "          epochs=EPOCHS, \n",
    "          batch_size=BATCH_SIZE, \n",
    "          validation_data=(x_test, y_test), \n",
    "          shuffle=True,\n",
    "          callbacks=[model_ckpt]\n",
    "         )\n"
   ]
  },
  {
   "cell_type": "code",
   "execution_count": 17,
   "metadata": {},
   "outputs": [
    {
     "name": "stdout",
     "output_type": "stream",
     "text": [
      "10000/10000 [==============================] - 2s 152us/step\n",
      "Loss: 1.4645824146270752, Acccuracy: 0.4911\n"
     ]
    }
   ],
   "source": [
    "model = keras.models.load_model(filepath)\n",
    "loss_loadback, acc_loadback = model.evaluate(x_test, y_test)\n",
    "print(f'Loss: {loss_loadback}, Acccuracy: {acc_loadback}')"
   ]
  },
  {
   "cell_type": "code",
   "execution_count": null,
   "metadata": {},
   "outputs": [],
   "source": []
  }
 ],
 "metadata": {
  "anaconda-cloud": {},
  "kernelspec": {
   "display_name": "Python 3",
   "language": "python",
   "name": "python3"
  },
  "language_info": {
   "codemirror_mode": {
    "name": "ipython",
    "version": 3
   },
   "file_extension": ".py",
   "mimetype": "text/x-python",
   "name": "python",
   "nbconvert_exporter": "python",
   "pygments_lexer": "ipython3",
   "version": "3.6.5"
  }
 },
 "nbformat": 4,
 "nbformat_minor": 2
}
