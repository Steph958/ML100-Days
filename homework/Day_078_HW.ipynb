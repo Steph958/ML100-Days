{
 "cells": [
  {
   "cell_type": "markdown",
   "metadata": {},
   "source": [
    "## Work\n",
    "1. 請嘗試將 preproc_x 替換成以每筆資料的 min/max 進行標準化至 -1 ~ 1 間，再進行訓練\n",
    "2. 請嘗試將 mlp 疊更深 (e.g 5~10 層)，進行訓練後觀察 learning curve 的走勢\n",
    "3. (optional) 請改用 GPU 進行訓練 (如果你有 GPU 的話)，比較使用 CPU 與 GPU 的訓練速度"
   ]
  },
  {
   "cell_type": "code",
   "execution_count": 1,
   "metadata": {},
   "outputs": [],
   "source": [
    "## 確認硬體資源\n",
    "\"\"\"\n",
    "Your code here\n",
    "\"\"\"\n"
   ]
  },
  {
   "cell_type": "code",
   "execution_count": 1,
   "metadata": {},
   "outputs": [
    {
     "name": "stderr",
     "output_type": "stream",
     "text": [
      "Using TensorFlow backend.\n"
     ]
    }
   ],
   "source": [
    "import os\n",
    "import keras\n",
    "\n",
    "# Try to enable GPU (optional)\n"
   ]
  },
  {
   "cell_type": "code",
   "execution_count": 2,
   "metadata": {},
   "outputs": [],
   "source": [
    "train, test = keras.datasets.cifar10.load_data()"
   ]
  },
  {
   "cell_type": "code",
   "execution_count": 14,
   "metadata": {},
   "outputs": [],
   "source": [
    "## 資料前處理\n",
    "\n",
    "def preproc_x(x, flatten=True):\n",
    "    x = x / 255.\n",
    "    if flatten:\n",
    "        x =x.reshape((len(x), -1))\n",
    "    return x\n",
    "def preproc_y(y, num_classes=10):\n",
    "    if y.shape[-1] == 1:\n",
    "        y = keras.utils.to_categorical(y, num_classes)\n",
    "    return y    "
   ]
  },
  {
   "cell_type": "code",
   "execution_count": 16,
   "metadata": {},
   "outputs": [],
   "source": [
    "x_train, y_train = train\n",
    "x_test, y_test = test\n",
    "\n",
    "# Preproc the inputs\n",
    "x_train = preproc_x(x_train)\n",
    "x_test = preproc_x(x_test)\n",
    "\n",
    "# Preprc the outputs\n",
    "y_train = preproc_y(y_train)\n",
    "y_test = preproc_y(y_test)"
   ]
  },
  {
   "cell_type": "code",
   "execution_count": 24,
   "metadata": {},
   "outputs": [
    {
     "data": {
      "text/plain": [
       "array([0.60392157, 0.69411765, 0.73333333, ..., 0.56078431, 0.52156863,\n",
       "       0.56470588])"
      ]
     },
     "execution_count": 24,
     "metadata": {},
     "output_type": "execute_result"
    }
   ],
   "source": [
    "x_train[1]"
   ]
  },
  {
   "cell_type": "code",
   "execution_count": 18,
   "metadata": {},
   "outputs": [],
   "source": [
    "def build_mlp(input_shape, output_units=10):\n",
    "    input_layer = keras.layers.Input(input_shape)\n",
    "    X = keras.layers.Dense(units=512, activation='relu')(input_layer)\n",
    "    X = keras.layers.Dropout(0.2)(X)\n",
    "    X = keras.layers.Dense(units=256, activation='relu')(X)\n",
    "    X = keras.layers.Dense(units=256, activation='relu')(X)\n",
    "    X = keras.layers.Dropout(0.2)(X)\n",
    "    X = keras.layers.Dense(units=128, activation='relu')(X)\n",
    "    X = keras.layers.Dense(units=64, activation='relu')(X)\n",
    "    X = keras.layers.Dense(units=32, activation='relu')(X)\n",
    "    out = keras.layers.Dense(units=output_units, activation=\"softmax\", name=\"output\")(X)\n",
    "    \n",
    "    model = keras.models.Model(inputs=[input_layer], outputs=[out])\n",
    "    return model\n",
    "model = build_mlp(input_shape=x_train.shape[1:])"
   ]
  },
  {
   "cell_type": "code",
   "execution_count": 19,
   "metadata": {},
   "outputs": [],
   "source": [
    "## 超參數設定\n",
    "LEARNING_RATE = 0.001\n",
    "EPOCHS = 100\n",
    "BATCH_SIZE = 256"
   ]
  },
  {
   "cell_type": "code",
   "execution_count": 20,
   "metadata": {},
   "outputs": [
    {
     "name": "stdout",
     "output_type": "stream",
     "text": [
      "_________________________________________________________________\n",
      "Layer (type)                 Output Shape              Param #   \n",
      "=================================================================\n",
      "input_2 (InputLayer)         (None, 3072)              0         \n",
      "_________________________________________________________________\n",
      "dense_7 (Dense)              (None, 512)               1573376   \n",
      "_________________________________________________________________\n",
      "dropout_3 (Dropout)          (None, 512)               0         \n",
      "_________________________________________________________________\n",
      "dense_8 (Dense)              (None, 256)               131328    \n",
      "_________________________________________________________________\n",
      "dense_9 (Dense)              (None, 256)               65792     \n",
      "_________________________________________________________________\n",
      "dropout_4 (Dropout)          (None, 256)               0         \n",
      "_________________________________________________________________\n",
      "dense_10 (Dense)             (None, 128)               32896     \n",
      "_________________________________________________________________\n",
      "dense_11 (Dense)             (None, 64)                8256      \n",
      "_________________________________________________________________\n",
      "dense_12 (Dense)             (None, 32)                2080      \n",
      "_________________________________________________________________\n",
      "output (Dense)               (None, 10)                330       \n",
      "=================================================================\n",
      "Total params: 1,814,058\n",
      "Trainable params: 1,814,058\n",
      "Non-trainable params: 0\n",
      "_________________________________________________________________\n"
     ]
    }
   ],
   "source": [
    "\n",
    "optimizer = keras.optimizers.Adam(lr=LEARNING_RATE)\n",
    "model.compile(loss=\"categorical_crossentropy\", metrics=[\"accuracy\"], optimizer=optimizer)\n",
    "model.summary()"
   ]
  },
  {
   "cell_type": "code",
   "execution_count": 21,
   "metadata": {},
   "outputs": [
    {
     "name": "stdout",
     "output_type": "stream",
     "text": [
      "Train on 50000 samples, validate on 10000 samples\n",
      "Epoch 1/100\n",
      "50000/50000 [==============================] - 16s 324us/step - loss: 2.0723 - acc: 0.2171 - val_loss: 1.8662 - val_acc: 0.3250\n",
      "Epoch 2/100\n",
      "50000/50000 [==============================] - 15s 292us/step - loss: 1.8386 - acc: 0.3323 - val_loss: 1.7557 - val_acc: 0.3566\n",
      "Epoch 3/100\n",
      "50000/50000 [==============================] - 15s 290us/step - loss: 1.7634 - acc: 0.3656 - val_loss: 1.6718 - val_acc: 0.3939\n",
      "Epoch 4/100\n",
      "50000/50000 [==============================] - 15s 290us/step - loss: 1.7062 - acc: 0.3882 - val_loss: 1.6365 - val_acc: 0.4114\n",
      "Epoch 5/100\n",
      "50000/50000 [==============================] - 14s 290us/step - loss: 1.6642 - acc: 0.4017 - val_loss: 1.5811 - val_acc: 0.4313\n",
      "Epoch 6/100\n",
      "50000/50000 [==============================] - 14s 289us/step - loss: 1.6390 - acc: 0.4102 - val_loss: 1.5639 - val_acc: 0.4425\n",
      "Epoch 7/100\n",
      "50000/50000 [==============================] - 15s 300us/step - loss: 1.6090 - acc: 0.4239 - val_loss: 1.5342 - val_acc: 0.4473\n",
      "Epoch 8/100\n",
      "50000/50000 [==============================] - 15s 303us/step - loss: 1.5848 - acc: 0.4309 - val_loss: 1.5412 - val_acc: 0.4465\n",
      "Epoch 9/100\n",
      "50000/50000 [==============================] - 15s 303us/step - loss: 1.5711 - acc: 0.4363 - val_loss: 1.5379 - val_acc: 0.4479\n",
      "Epoch 10/100\n",
      "50000/50000 [==============================] - 15s 304us/step - loss: 1.5499 - acc: 0.4419 - val_loss: 1.4910 - val_acc: 0.4688\n",
      "Epoch 11/100\n",
      "50000/50000 [==============================] - 15s 294us/step - loss: 1.5394 - acc: 0.4483 - val_loss: 1.4913 - val_acc: 0.4657\n",
      "Epoch 12/100\n",
      "50000/50000 [==============================] - 15s 293us/step - loss: 1.5111 - acc: 0.4568 - val_loss: 1.4620 - val_acc: 0.4806\n",
      "Epoch 13/100\n",
      "50000/50000 [==============================] - 15s 292us/step - loss: 1.5029 - acc: 0.4592 - val_loss: 1.4636 - val_acc: 0.4857\n",
      "Epoch 14/100\n",
      "50000/50000 [==============================] - 15s 296us/step - loss: 1.5002 - acc: 0.4609 - val_loss: 1.4724 - val_acc: 0.4777\n",
      "Epoch 15/100\n",
      "50000/50000 [==============================] - 15s 292us/step - loss: 1.4890 - acc: 0.4642 - val_loss: 1.4621 - val_acc: 0.4755\n",
      "Epoch 16/100\n",
      "50000/50000 [==============================] - 15s 293us/step - loss: 1.4793 - acc: 0.4685 - val_loss: 1.4402 - val_acc: 0.4910\n",
      "Epoch 17/100\n",
      "50000/50000 [==============================] - 16s 313us/step - loss: 1.4701 - acc: 0.4726 - val_loss: 1.4283 - val_acc: 0.4889\n",
      "Epoch 18/100\n",
      "50000/50000 [==============================] - 16s 313us/step - loss: 1.4520 - acc: 0.4786 - val_loss: 1.4495 - val_acc: 0.4829\n",
      "Epoch 19/100\n",
      "50000/50000 [==============================] - 15s 294us/step - loss: 1.4486 - acc: 0.4838 - val_loss: 1.4126 - val_acc: 0.4979\n",
      "Epoch 20/100\n",
      "50000/50000 [==============================] - 15s 295us/step - loss: 1.4329 - acc: 0.4869 - val_loss: 1.4127 - val_acc: 0.4996\n",
      "Epoch 21/100\n",
      "50000/50000 [==============================] - 15s 293us/step - loss: 1.4225 - acc: 0.4922 - val_loss: 1.4402 - val_acc: 0.4812\n",
      "Epoch 22/100\n",
      "50000/50000 [==============================] - 15s 294us/step - loss: 1.4240 - acc: 0.4887 - val_loss: 1.4162 - val_acc: 0.4986\n",
      "Epoch 23/100\n",
      "50000/50000 [==============================] - 15s 295us/step - loss: 1.4158 - acc: 0.4916 - val_loss: 1.4249 - val_acc: 0.4930\n",
      "Epoch 24/100\n",
      "50000/50000 [==============================] - 15s 294us/step - loss: 1.4054 - acc: 0.4944 - val_loss: 1.4206 - val_acc: 0.5006\n",
      "Epoch 25/100\n",
      "50000/50000 [==============================] - 15s 294us/step - loss: 1.3989 - acc: 0.4990 - val_loss: 1.3986 - val_acc: 0.5087\n",
      "Epoch 26/100\n",
      "50000/50000 [==============================] - 15s 294us/step - loss: 1.3861 - acc: 0.5029 - val_loss: 1.3892 - val_acc: 0.5107\n",
      "Epoch 27/100\n",
      "50000/50000 [==============================] - 15s 294us/step - loss: 1.3751 - acc: 0.5041 - val_loss: 1.4165 - val_acc: 0.4966\n",
      "Epoch 28/100\n",
      "50000/50000 [==============================] - 15s 299us/step - loss: 1.3689 - acc: 0.5083 - val_loss: 1.4083 - val_acc: 0.5029\n",
      "Epoch 29/100\n",
      "50000/50000 [==============================] - 15s 294us/step - loss: 1.3587 - acc: 0.5162 - val_loss: 1.3753 - val_acc: 0.5086\n",
      "Epoch 30/100\n",
      "50000/50000 [==============================] - 15s 295us/step - loss: 1.3554 - acc: 0.5144 - val_loss: 1.3820 - val_acc: 0.5058\n",
      "Epoch 31/100\n",
      "50000/50000 [==============================] - 15s 294us/step - loss: 1.3454 - acc: 0.5192 - val_loss: 1.4020 - val_acc: 0.5025\n",
      "Epoch 32/100\n",
      "50000/50000 [==============================] - 15s 294us/step - loss: 1.3387 - acc: 0.5181 - val_loss: 1.3730 - val_acc: 0.5143\n",
      "Epoch 33/100\n",
      "50000/50000 [==============================] - 15s 294us/step - loss: 1.3321 - acc: 0.5227 - val_loss: 1.3870 - val_acc: 0.5065\n",
      "Epoch 34/100\n",
      "50000/50000 [==============================] - 16s 318us/step - loss: 1.3208 - acc: 0.5251 - val_loss: 1.3551 - val_acc: 0.5185\n",
      "Epoch 35/100\n",
      "50000/50000 [==============================] - 16s 324us/step - loss: 1.3201 - acc: 0.5237 - val_loss: 1.3624 - val_acc: 0.5137\n",
      "Epoch 36/100\n",
      "50000/50000 [==============================] - 15s 299us/step - loss: 1.3188 - acc: 0.5251 - val_loss: 1.3477 - val_acc: 0.5268\n",
      "Epoch 37/100\n",
      "50000/50000 [==============================] - 15s 295us/step - loss: 1.3036 - acc: 0.5322 - val_loss: 1.3579 - val_acc: 0.5254\n",
      "Epoch 38/100\n",
      "50000/50000 [==============================] - 15s 294us/step - loss: 1.2992 - acc: 0.5333 - val_loss: 1.3946 - val_acc: 0.5076\n",
      "Epoch 39/100\n",
      "50000/50000 [==============================] - 15s 294us/step - loss: 1.2975 - acc: 0.5359 - val_loss: 1.3546 - val_acc: 0.5211\n",
      "Epoch 40/100\n",
      "50000/50000 [==============================] - 15s 295us/step - loss: 1.2907 - acc: 0.5350 - val_loss: 1.3609 - val_acc: 0.5129\n",
      "Epoch 41/100\n",
      "50000/50000 [==============================] - 15s 299us/step - loss: 1.2849 - acc: 0.5381 - val_loss: 1.3569 - val_acc: 0.5201\n",
      "Epoch 42/100\n",
      "50000/50000 [==============================] - 15s 295us/step - loss: 1.2732 - acc: 0.5424 - val_loss: 1.3405 - val_acc: 0.5236\n",
      "Epoch 43/100\n",
      "50000/50000 [==============================] - 15s 295us/step - loss: 1.2783 - acc: 0.5409 - val_loss: 1.3743 - val_acc: 0.5157\n",
      "Epoch 44/100\n",
      "50000/50000 [==============================] - 15s 296us/step - loss: 1.2804 - acc: 0.5385 - val_loss: 1.3617 - val_acc: 0.5181\n",
      "Epoch 45/100\n",
      "50000/50000 [==============================] - 15s 295us/step - loss: 1.2695 - acc: 0.5439 - val_loss: 1.3656 - val_acc: 0.5207\n",
      "Epoch 46/100\n",
      "50000/50000 [==============================] - 15s 295us/step - loss: 1.2631 - acc: 0.5468 - val_loss: 1.3429 - val_acc: 0.5223\n",
      "Epoch 47/100\n",
      "50000/50000 [==============================] - 15s 295us/step - loss: 1.2575 - acc: 0.5492 - val_loss: 1.3521 - val_acc: 0.5252\n",
      "Epoch 48/100\n",
      "50000/50000 [==============================] - 16s 310us/step - loss: 1.2516 - acc: 0.5503 - val_loss: 1.3432 - val_acc: 0.5232\n",
      "Epoch 49/100\n",
      "50000/50000 [==============================] - 15s 304us/step - loss: 1.2436 - acc: 0.5528 - val_loss: 1.3395 - val_acc: 0.5230\n",
      "Epoch 50/100\n",
      "50000/50000 [==============================] - 15s 303us/step - loss: 1.2500 - acc: 0.5508 - val_loss: 1.3581 - val_acc: 0.5221\n",
      "Epoch 51/100\n",
      "50000/50000 [==============================] - 15s 302us/step - loss: 1.2421 - acc: 0.5521 - val_loss: 1.3605 - val_acc: 0.5199\n",
      "Epoch 52/100\n",
      "50000/50000 [==============================] - 15s 297us/step - loss: 1.2369 - acc: 0.5571 - val_loss: 1.3364 - val_acc: 0.5255\n",
      "Epoch 53/100\n",
      "50000/50000 [==============================] - 15s 295us/step - loss: 1.2265 - acc: 0.5591 - val_loss: 1.3648 - val_acc: 0.5176\n",
      "Epoch 54/100\n",
      "50000/50000 [==============================] - 15s 295us/step - loss: 1.2218 - acc: 0.5610 - val_loss: 1.3476 - val_acc: 0.5230\n",
      "Epoch 55/100\n",
      "50000/50000 [==============================] - 15s 298us/step - loss: 1.2276 - acc: 0.5577 - val_loss: 1.3772 - val_acc: 0.5139\n",
      "Epoch 56/100\n",
      "50000/50000 [==============================] - 15s 296us/step - loss: 1.2190 - acc: 0.5611 - val_loss: 1.3491 - val_acc: 0.5175\n",
      "Epoch 57/100\n",
      "50000/50000 [==============================] - 15s 303us/step - loss: 1.2106 - acc: 0.5651 - val_loss: 1.3457 - val_acc: 0.5194\n",
      "Epoch 58/100\n",
      "50000/50000 [==============================] - 15s 309us/step - loss: 1.2071 - acc: 0.5664 - val_loss: 1.3808 - val_acc: 0.5138\n"
     ]
    },
    {
     "name": "stdout",
     "output_type": "stream",
     "text": [
      "Epoch 59/100\n",
      "50000/50000 [==============================] - 14s 288us/step - loss: 1.2120 - acc: 0.5617 - val_loss: 1.3762 - val_acc: 0.5109\n",
      "Epoch 60/100\n",
      "50000/50000 [==============================] - 15s 293us/step - loss: 1.2045 - acc: 0.5681 - val_loss: 1.3502 - val_acc: 0.5194\n",
      "Epoch 61/100\n",
      "50000/50000 [==============================] - 14s 288us/step - loss: 1.1976 - acc: 0.5689 - val_loss: 1.3221 - val_acc: 0.5313\n",
      "Epoch 62/100\n",
      "50000/50000 [==============================] - 14s 288us/step - loss: 1.1972 - acc: 0.5689 - val_loss: 1.3716 - val_acc: 0.5179\n",
      "Epoch 63/100\n",
      "50000/50000 [==============================] - 14s 289us/step - loss: 1.1936 - acc: 0.5694 - val_loss: 1.3655 - val_acc: 0.5158\n",
      "Epoch 64/100\n",
      "50000/50000 [==============================] - 14s 289us/step - loss: 1.1848 - acc: 0.5737 - val_loss: 1.3606 - val_acc: 0.5160\n",
      "Epoch 65/100\n",
      "50000/50000 [==============================] - 14s 289us/step - loss: 1.1816 - acc: 0.5745 - val_loss: 1.3542 - val_acc: 0.5212\n",
      "Epoch 66/100\n",
      "50000/50000 [==============================] - 14s 289us/step - loss: 1.1851 - acc: 0.5742 - val_loss: 1.3493 - val_acc: 0.5239\n",
      "Epoch 67/100\n",
      "50000/50000 [==============================] - 14s 289us/step - loss: 1.1851 - acc: 0.5766 - val_loss: 1.3568 - val_acc: 0.5248\n",
      "Epoch 68/100\n",
      "50000/50000 [==============================] - 15s 290us/step - loss: 1.1707 - acc: 0.5777 - val_loss: 1.3439 - val_acc: 0.5294\n",
      "Epoch 69/100\n",
      "50000/50000 [==============================] - 14s 290us/step - loss: 1.1673 - acc: 0.5806 - val_loss: 1.3549 - val_acc: 0.5198\n",
      "Epoch 70/100\n",
      "50000/50000 [==============================] - 15s 291us/step - loss: 1.1721 - acc: 0.5741 - val_loss: 1.3522 - val_acc: 0.5236\n",
      "Epoch 71/100\n",
      "50000/50000 [==============================] - 14s 290us/step - loss: 1.1624 - acc: 0.5815 - val_loss: 1.3705 - val_acc: 0.5151\n",
      "Epoch 72/100\n",
      "50000/50000 [==============================] - 14s 290us/step - loss: 1.1659 - acc: 0.5797 - val_loss: 1.3711 - val_acc: 0.5185\n",
      "Epoch 73/100\n",
      "50000/50000 [==============================] - 14s 289us/step - loss: 1.1582 - acc: 0.5831 - val_loss: 1.3803 - val_acc: 0.5177\n",
      "Epoch 74/100\n",
      "50000/50000 [==============================] - 14s 288us/step - loss: 1.1619 - acc: 0.5827 - val_loss: 1.3430 - val_acc: 0.5248\n",
      "Epoch 75/100\n",
      "50000/50000 [==============================] - 14s 289us/step - loss: 1.1581 - acc: 0.5839 - val_loss: 1.3602 - val_acc: 0.5250\n",
      "Epoch 76/100\n",
      "50000/50000 [==============================] - 14s 289us/step - loss: 1.1539 - acc: 0.5819 - val_loss: 1.3467 - val_acc: 0.5268\n",
      "Epoch 77/100\n",
      "50000/50000 [==============================] - 14s 290us/step - loss: 1.1446 - acc: 0.5881 - val_loss: 1.3762 - val_acc: 0.5187\n",
      "Epoch 78/100\n",
      "50000/50000 [==============================] - 14s 289us/step - loss: 1.1448 - acc: 0.5880 - val_loss: 1.3529 - val_acc: 0.5237\n",
      "Epoch 79/100\n",
      "50000/50000 [==============================] - 14s 289us/step - loss: 1.1405 - acc: 0.5899 - val_loss: 1.3655 - val_acc: 0.5275\n",
      "Epoch 80/100\n",
      "50000/50000 [==============================] - 14s 288us/step - loss: 1.1426 - acc: 0.5903 - val_loss: 1.3519 - val_acc: 0.5272\n",
      "Epoch 81/100\n",
      "50000/50000 [==============================] - 14s 289us/step - loss: 1.1346 - acc: 0.5918 - val_loss: 1.3620 - val_acc: 0.5270\n",
      "Epoch 82/100\n",
      "50000/50000 [==============================] - 14s 289us/step - loss: 1.1358 - acc: 0.5914 - val_loss: 1.3498 - val_acc: 0.5300\n",
      "Epoch 83/100\n",
      "50000/50000 [==============================] - 15s 291us/step - loss: 1.1290 - acc: 0.5922 - val_loss: 1.3723 - val_acc: 0.5232\n",
      "Epoch 84/100\n",
      "50000/50000 [==============================] - 14s 290us/step - loss: 1.1286 - acc: 0.5937 - val_loss: 1.3577 - val_acc: 0.5210\n",
      "Epoch 85/100\n",
      "50000/50000 [==============================] - 15s 292us/step - loss: 1.1226 - acc: 0.5928 - val_loss: 1.3778 - val_acc: 0.5248\n",
      "Epoch 86/100\n",
      "50000/50000 [==============================] - 15s 290us/step - loss: 1.1244 - acc: 0.5966 - val_loss: 1.3694 - val_acc: 0.5200\n",
      "Epoch 87/100\n",
      "50000/50000 [==============================] - 15s 291us/step - loss: 1.1146 - acc: 0.5996 - val_loss: 1.3585 - val_acc: 0.5264\n",
      "Epoch 88/100\n",
      "50000/50000 [==============================] - 15s 294us/step - loss: 1.1122 - acc: 0.5985 - val_loss: 1.3472 - val_acc: 0.5299\n",
      "Epoch 89/100\n",
      "50000/50000 [==============================] - 15s 295us/step - loss: 1.1134 - acc: 0.5995 - val_loss: 1.3754 - val_acc: 0.5220\n",
      "Epoch 90/100\n",
      "50000/50000 [==============================] - 15s 292us/step - loss: 1.1131 - acc: 0.5982 - val_loss: 1.3761 - val_acc: 0.5207\n",
      "Epoch 91/100\n",
      "50000/50000 [==============================] - 15s 293us/step - loss: 1.1091 - acc: 0.6033 - val_loss: 1.3587 - val_acc: 0.5318\n",
      "Epoch 92/100\n",
      "50000/50000 [==============================] - 15s 293us/step - loss: 1.1220 - acc: 0.5958 - val_loss: 1.3616 - val_acc: 0.5273\n",
      "Epoch 93/100\n",
      "50000/50000 [==============================] - 15s 293us/step - loss: 1.1048 - acc: 0.6020 - val_loss: 1.3640 - val_acc: 0.5249\n",
      "Epoch 94/100\n",
      "50000/50000 [==============================] - 15s 294us/step - loss: 1.1138 - acc: 0.5981 - val_loss: 1.3750 - val_acc: 0.5213\n",
      "Epoch 95/100\n",
      "50000/50000 [==============================] - 15s 292us/step - loss: 1.1089 - acc: 0.5973 - val_loss: 1.3551 - val_acc: 0.5299\n",
      "Epoch 96/100\n",
      "50000/50000 [==============================] - 15s 292us/step - loss: 1.1041 - acc: 0.6016 - val_loss: 1.3617 - val_acc: 0.5231\n",
      "Epoch 97/100\n",
      "50000/50000 [==============================] - 15s 292us/step - loss: 1.0929 - acc: 0.6069 - val_loss: 1.3721 - val_acc: 0.5269\n",
      "Epoch 98/100\n",
      "50000/50000 [==============================] - 15s 292us/step - loss: 1.1030 - acc: 0.6017 - val_loss: 1.3667 - val_acc: 0.5257\n",
      "Epoch 99/100\n",
      "50000/50000 [==============================] - 15s 293us/step - loss: 1.0979 - acc: 0.6060 - val_loss: 1.3534 - val_acc: 0.5299\n",
      "Epoch 100/100\n",
      "50000/50000 [==============================] - 15s 292us/step - loss: 1.0911 - acc: 0.6070 - val_loss: 1.3989 - val_acc: 0.5132\n"
     ]
    },
    {
     "data": {
      "text/plain": [
       "<keras.callbacks.History at 0x1ed963c27b8>"
      ]
     },
     "execution_count": 21,
     "metadata": {},
     "output_type": "execute_result"
    }
   ],
   "source": [
    "model.fit(x_train, y_train, \n",
    "          epochs=EPOCHS, \n",
    "          batch_size=BATCH_SIZE, \n",
    "          validation_data=(x_test, y_test), \n",
    "          shuffle=True)"
   ]
  },
  {
   "cell_type": "code",
   "execution_count": 23,
   "metadata": {},
   "outputs": [
    {
     "data": {
      "image/png": "[encoded data removed]",
      "text/plain": [
       "<Figure size 432x288 with 1 Axes>"
      ]
     },
     "metadata": {
      "needs_background": "light"
     },
     "output_type": "display_data"
    },
    {
     "data": {
      "image/png": "[encoded data removed]",
      "text/plain": [
       "<Figure size 432x288 with 1 Axes>"
      ]
     },
     "metadata": {
      "needs_background": "light"
     },
     "output_type": "display_data"
    }
   ],
   "source": [
    "import matplotlib.pyplot as plt\n",
    "\n",
    "\n",
    "train_loss = model.history.history[\"loss\"]\n",
    "valid_loss = model.history.history[\"val_loss\"]\n",
    "\n",
    "train_acc = model.history.history[\"acc\"]\n",
    "valid_acc = model.history.history[\"val_acc\"]\n",
    "\n",
    "plt.plot(range(len(train_loss)), train_loss, label=\"train loss\")\n",
    "plt.plot(range(len(valid_loss)), valid_loss, label=\"valid loss\")\n",
    "plt.legend()\n",
    "plt.title(\"Loss\")\n",
    "plt.show()\n",
    "\n",
    "plt.plot(range(len(train_acc)), train_acc, label=\"train accuracy\")\n",
    "plt.plot(range(len(valid_acc)), valid_acc, label=\"valid accuracy\")\n",
    "plt.legend()\n",
    "plt.title(\"Accuracy\")\n",
    "plt.show()"
   ]
  },
  {
   "cell_type": "code",
   "execution_count": 12,
   "metadata": {},
   "outputs": [
    {
     "data": {
      "image/png": "[encoded data removed]",
      "text/plain": [
       "<Figure size 432x288 with 1 Axes>"
      ]
     },
     "metadata": {},
     "output_type": "display_data"
    },
    {
     "data": {
      "image/png": "[encoded data removed]",
      "text/plain": [
       "<Figure size 432x288 with 1 Axes>"
      ]
     },
     "metadata": {},
     "output_type": "display_data"
    }
   ],
   "source": [
    "import matplotlib.pyplot as plt\n",
    "\n",
    "\n",
    "train_loss = model.history.history[\"loss\"]\n",
    "valid_loss = model.history.history[\"val_loss\"]\n",
    "\n",
    "train_acc = model.history.history[\"acc\"]\n",
    "valid_acc = model.history.history[\"val_acc\"]\n",
    "\n",
    "plt.plot(range(len(train_loss)), train_loss, label=\"train loss\")\n",
    "plt.plot(range(len(valid_loss)), valid_loss, label=\"valid loss\")\n",
    "plt.legend()\n",
    "plt.title(\"Loss\")\n",
    "plt.show()\n",
    "\n",
    "plt.plot(range(len(train_acc)), train_acc, label=\"train accuracy\")\n",
    "plt.plot(range(len(valid_acc)), valid_acc, label=\"valid accuracy\")\n",
    "plt.legend()\n",
    "plt.title(\"Accuracy\")\n",
    "plt.show()"
   ]
  }
 ],
 "metadata": {
  "kernelspec": {
   "display_name": "Python 3",
   "language": "python",
   "name": "python3"
  },
  "language_info": {
   "codemirror_mode": {
    "name": "ipython",
    "version": 3
   },
   "file_extension": ".py",
   "mimetype": "text/x-python",
   "name": "python",
   "nbconvert_exporter": "python",
   "pygments_lexer": "ipython3",
   "version": "3.6.5"
  }
 },
 "nbformat": 4,
 "nbformat_minor": 2
}
