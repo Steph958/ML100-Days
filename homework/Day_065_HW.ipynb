{
 "cells": [
  {
   "cell_type": "markdown",
   "metadata": {},
   "source": [
    "# 作業:\n",
    "嘗試調整參數:  \n",
    "sg:sg=1表示採用skip-gram,sg=0 表示採用cbow  \n",
    "window:能往左往右看幾個字的意思 "
   ]
  },
  {
   "cell_type": "code",
   "execution_count": 1,
   "metadata": {},
   "outputs": [],
   "source": [
    "import gensim, logging\n",
    "from gensim.models import word2vec"
   ]
  },
  {
   "cell_type": "code",
   "execution_count": 18,
   "metadata": {},
   "outputs": [
    {
     "name": "stderr",
     "output_type": "stream",
     "text": [
      "2019-03-08 10:19:17,640 : INFO : collecting all words and their counts\n",
      "2019-03-08 10:19:17,642 : INFO : PROGRESS: at sentence #0, processed 0 words, keeping 0 word types\n",
      "2019-03-08 10:19:17,642 : INFO : collected 3 word types from a corpus of 4 raw words and 2 sentences\n",
      "2019-03-08 10:19:17,643 : INFO : Loading a fresh vocabulary\n",
      "2019-03-08 10:19:17,644 : INFO : effective_min_count=1 retains 3 unique words (100% of original 3, drops 0)\n",
      "2019-03-08 10:19:17,644 : INFO : effective_min_count=1 leaves 4 word corpus (100% of original 4, drops 0)\n",
      "2019-03-08 10:19:17,645 : INFO : deleting the raw counts dictionary of 3 items\n",
      "2019-03-08 10:19:17,646 : INFO : sample=0.001 downsamples 3 most-common words\n",
      "2019-03-08 10:19:17,647 : INFO : downsampling leaves estimated 0 word corpus (5.7% of prior 4)\n",
      "2019-03-08 10:19:17,648 : INFO : estimated required memory for 3 words and 128 dimensions: 4572 bytes\n",
      "2019-03-08 10:19:17,649 : INFO : resetting layer weights\n",
      "2019-03-08 10:19:17,649 : INFO : training model with 4 workers on 3 vocabulary and 128 features, using sg=0 hs=0 sample=0.001 negative=5 window=3\n",
      "2019-03-08 10:19:17,658 : INFO : worker thread finished; awaiting finish of 3 more threads\n",
      "2019-03-08 10:19:17,659 : INFO : worker thread finished; awaiting finish of 2 more threads\n",
      "2019-03-08 10:19:17,662 : INFO : worker thread finished; awaiting finish of 1 more threads\n",
      "2019-03-08 10:19:17,664 : INFO : worker thread finished; awaiting finish of 0 more threads\n",
      "2019-03-08 10:19:17,665 : INFO : EPOCH - 1 : training on 4 raw words (0 effective words) took 0.0s, 0 effective words/s\n",
      "2019-03-08 10:19:17,672 : INFO : worker thread finished; awaiting finish of 3 more threads\n",
      "2019-03-08 10:19:17,673 : INFO : worker thread finished; awaiting finish of 2 more threads\n",
      "2019-03-08 10:19:17,674 : INFO : worker thread finished; awaiting finish of 1 more threads\n",
      "2019-03-08 10:19:17,675 : INFO : worker thread finished; awaiting finish of 0 more threads\n",
      "2019-03-08 10:19:17,676 : INFO : EPOCH - 2 : training on 4 raw words (0 effective words) took 0.0s, 0 effective words/s\n",
      "2019-03-08 10:19:17,680 : INFO : worker thread finished; awaiting finish of 3 more threads\n",
      "2019-03-08 10:19:17,681 : INFO : worker thread finished; awaiting finish of 2 more threads\n",
      "2019-03-08 10:19:17,682 : INFO : worker thread finished; awaiting finish of 1 more threads\n",
      "2019-03-08 10:19:17,683 : INFO : worker thread finished; awaiting finish of 0 more threads\n",
      "2019-03-08 10:19:17,684 : INFO : EPOCH - 3 : training on 4 raw words (1 effective words) took 0.0s, 264 effective words/s\n",
      "2019-03-08 10:19:17,689 : INFO : worker thread finished; awaiting finish of 3 more threads\n",
      "2019-03-08 10:19:17,690 : INFO : worker thread finished; awaiting finish of 2 more threads\n",
      "2019-03-08 10:19:17,690 : INFO : worker thread finished; awaiting finish of 1 more threads\n",
      "2019-03-08 10:19:17,691 : INFO : worker thread finished; awaiting finish of 0 more threads\n",
      "2019-03-08 10:19:17,692 : INFO : EPOCH - 4 : training on 4 raw words (1 effective words) took 0.0s, 244 effective words/s\n",
      "2019-03-08 10:19:17,697 : INFO : worker thread finished; awaiting finish of 3 more threads\n",
      "2019-03-08 10:19:17,698 : INFO : worker thread finished; awaiting finish of 2 more threads\n",
      "2019-03-08 10:19:17,699 : INFO : worker thread finished; awaiting finish of 1 more threads\n",
      "2019-03-08 10:19:17,700 : INFO : worker thread finished; awaiting finish of 0 more threads\n",
      "2019-03-08 10:19:17,700 : INFO : EPOCH - 5 : training on 4 raw words (0 effective words) took 0.0s, 0 effective words/s\n",
      "2019-03-08 10:19:17,701 : INFO : training on a 20 raw words (2 effective words) took 0.1s, 39 effective words/s\n",
      "2019-03-08 10:19:17,702 : WARNING : under 10 jobs per worker: consider setting a smaller `batch_words' for smoother alpha decay\n",
      "2019-03-08 10:19:17,703 : INFO : collecting all words and their counts\n",
      "2019-03-08 10:19:17,704 : INFO : PROGRESS: at sentence #0, processed 0 words, keeping 0 word types\n",
      "2019-03-08 10:19:17,705 : INFO : collected 3 word types from a corpus of 4 raw words and 2 sentences\n",
      "2019-03-08 10:19:17,706 : INFO : Loading a fresh vocabulary\n",
      "2019-03-08 10:19:17,706 : INFO : effective_min_count=1 retains 3 unique words (100% of original 3, drops 0)\n",
      "2019-03-08 10:19:17,707 : INFO : effective_min_count=1 leaves 4 word corpus (100% of original 4, drops 0)\n",
      "2019-03-08 10:19:17,708 : INFO : deleting the raw counts dictionary of 3 items\n",
      "2019-03-08 10:19:17,708 : INFO : sample=0.001 downsamples 3 most-common words\n",
      "2019-03-08 10:19:17,709 : INFO : downsampling leaves estimated 0 word corpus (5.7% of prior 4)\n",
      "2019-03-08 10:19:17,710 : INFO : estimated required memory for 3 words and 128 dimensions: 4572 bytes\n",
      "2019-03-08 10:19:17,710 : INFO : resetting layer weights\n",
      "2019-03-08 10:19:17,711 : INFO : training model with 4 workers on 3 vocabulary and 128 features, using sg=1 hs=0 sample=0.001 negative=5 window=3\n",
      "2019-03-08 10:19:17,716 : INFO : worker thread finished; awaiting finish of 3 more threads\n",
      "2019-03-08 10:19:17,717 : INFO : worker thread finished; awaiting finish of 2 more threads\n",
      "2019-03-08 10:19:17,717 : INFO : worker thread finished; awaiting finish of 1 more threads\n",
      "2019-03-08 10:19:17,718 : INFO : worker thread finished; awaiting finish of 0 more threads\n",
      "2019-03-08 10:19:17,719 : INFO : EPOCH - 1 : training on 4 raw words (0 effective words) took 0.0s, 0 effective words/s\n",
      "2019-03-08 10:19:17,727 : INFO : worker thread finished; awaiting finish of 3 more threads\n",
      "2019-03-08 10:19:17,728 : INFO : worker thread finished; awaiting finish of 2 more threads\n",
      "2019-03-08 10:19:17,728 : INFO : worker thread finished; awaiting finish of 1 more threads\n",
      "2019-03-08 10:19:17,729 : INFO : worker thread finished; awaiting finish of 0 more threads\n",
      "2019-03-08 10:19:17,730 : INFO : EPOCH - 2 : training on 4 raw words (0 effective words) took 0.0s, 0 effective words/s\n",
      "2019-03-08 10:19:17,734 : INFO : worker thread finished; awaiting finish of 3 more threads\n",
      "2019-03-08 10:19:17,735 : INFO : worker thread finished; awaiting finish of 2 more threads\n",
      "2019-03-08 10:19:17,736 : INFO : worker thread finished; awaiting finish of 1 more threads\n",
      "2019-03-08 10:19:17,736 : INFO : worker thread finished; awaiting finish of 0 more threads\n",
      "2019-03-08 10:19:17,738 : INFO : EPOCH - 3 : training on 4 raw words (1 effective words) took 0.0s, 237 effective words/s\n",
      "2019-03-08 10:19:17,749 : INFO : worker thread finished; awaiting finish of 3 more threads\n",
      "2019-03-08 10:19:17,750 : INFO : worker thread finished; awaiting finish of 2 more threads\n",
      "2019-03-08 10:19:17,751 : INFO : worker thread finished; awaiting finish of 1 more threads\n",
      "2019-03-08 10:19:17,752 : INFO : worker thread finished; awaiting finish of 0 more threads\n",
      "2019-03-08 10:19:17,753 : INFO : EPOCH - 4 : training on 4 raw words (1 effective words) took 0.0s, 223 effective words/s\n",
      "2019-03-08 10:19:17,761 : INFO : worker thread finished; awaiting finish of 3 more threads\n",
      "2019-03-08 10:19:17,762 : INFO : worker thread finished; awaiting finish of 2 more threads\n",
      "2019-03-08 10:19:17,763 : INFO : worker thread finished; awaiting finish of 1 more threads\n",
      "2019-03-08 10:19:17,764 : INFO : worker thread finished; awaiting finish of 0 more threads\n",
      "2019-03-08 10:19:17,764 : INFO : EPOCH - 5 : training on 4 raw words (0 effective words) took 0.0s, 0 effective words/s\n",
      "2019-03-08 10:19:17,765 : INFO : training on a 20 raw words (2 effective words) took 0.1s, 37 effective words/s\n",
      "2019-03-08 10:19:17,767 : WARNING : under 10 jobs per worker: consider setting a smaller `batch_words' for smoother alpha decay\n"
     ]
    }
   ],
   "source": [
    "logging.basicConfig(format='%(asctime)s : %(levelname)s : %(message)s', level=logging.INFO)  \n",
    "\n",
    "sentences = [['I am a hero', 'sentence'], ['She is a teacher', 'sentence']] \n",
    "\n",
    "# train word2vec on the two sentences  \n",
    "model_sg0 = word2vec.Word2Vec(sentences, size=128, min_count=1, window=3, workers=4, sg=0)  \n",
    "model_sg1 = word2vec.Word2Vec(sentences, size=128, min_count=1, window=3, workers=4, sg=1)  \n",
    "# sg=0 表示COBW, sg=1 表示skip-gram"
   ]
  },
  {
   "cell_type": "code",
   "execution_count": 19,
   "metadata": {},
   "outputs": [
    {
     "name": "stdout",
     "output_type": "stream",
     "text": [
      "Word2Vec(vocab=3, size=128, alpha=0.025)\n",
      "Word2Vec(vocab=3, size=128, alpha=0.025)\n"
     ]
    }
   ],
   "source": [
    "print(model_sg0)\n",
    "print(model_sg1)"
   ]
  },
  {
   "cell_type": "code",
   "execution_count": 20,
   "metadata": {},
   "outputs": [
    {
     "name": "stderr",
     "output_type": "stream",
     "text": [
      "C:\\Users\\cptien\\AppData\\Local\\Continuum\\anaconda3\\lib\\site-packages\\ipykernel_launcher.py:1: DeprecationWarning: Call to deprecated `similarity` (Method will be removed in 4.0.0, use self.wv.similarity() instead).\n",
      "  \"\"\"Entry point for launching an IPython kernel.\n"
     ]
    },
    {
     "data": {
      "text/plain": [
       "0.07379552"
      ]
     },
     "execution_count": 20,
     "metadata": {},
     "output_type": "execute_result"
    }
   ],
   "source": [
    "model_sg0.similarity('I am a hero','She is a teacher')"
   ]
  },
  {
   "cell_type": "code",
   "execution_count": 21,
   "metadata": {},
   "outputs": [
    {
     "name": "stderr",
     "output_type": "stream",
     "text": [
      "C:\\Users\\cptien\\AppData\\Local\\Continuum\\anaconda3\\lib\\site-packages\\ipykernel_launcher.py:1: DeprecationWarning: Call to deprecated `similarity` (Method will be removed in 4.0.0, use self.wv.similarity() instead).\n",
      "  \"\"\"Entry point for launching an IPython kernel.\n"
     ]
    },
    {
     "data": {
      "text/plain": [
       "0.07379552"
      ]
     },
     "execution_count": 21,
     "metadata": {},
     "output_type": "execute_result"
    }
   ],
   "source": [
    "model_sg1.similarity('I am a hero','She is a teacher')"
   ]
  },
  {
   "cell_type": "code",
   "execution_count": null,
   "metadata": {},
   "outputs": [],
   "source": []
  }
 ],
 "metadata": {
  "kernelspec": {
   "display_name": "Python 3",
   "language": "python",
   "name": "python3"
  },
  "language_info": {
   "codemirror_mode": {
    "name": "ipython",
    "version": 3
   },
   "file_extension": ".py",
   "mimetype": "text/x-python",
   "name": "python",
   "nbconvert_exporter": "python",
   "pygments_lexer": "ipython3",
   "version": "3.6.5"
  }
 },
 "nbformat": 4,
 "nbformat_minor": 2
}
