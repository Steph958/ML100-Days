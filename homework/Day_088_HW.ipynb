{
 "cells": [
  {
   "cell_type": "markdown",
   "metadata": {},
   "source": [
    "## Work\n",
    "1. 請嘗試寫一個 callback 用來記錄各類別在訓練過程中，對驗證集的 True Positive 與 True Negative"
   ]
  },
  {
   "cell_type": "code",
   "execution_count": 8,
   "metadata": {},
   "outputs": [],
   "source": [
    "import os\n",
    "import keras\n",
    "from sklearn.metrics import confusion_matrix\n",
    "# Disable GPU\n",
    "os.environ[\"CUDA_VISIBLE_DEVICES\"] = \"\""
   ]
  },
  {
   "cell_type": "code",
   "execution_count": 2,
   "metadata": {},
   "outputs": [],
   "source": [
    "train, test = keras.datasets.cifar10.load_data()"
   ]
  },
  {
   "cell_type": "code",
   "execution_count": 3,
   "metadata": {},
   "outputs": [],
   "source": [
    "## 資料前處理\n",
    "def preproc_x(x, flatten=True):\n",
    "    x = x / 255.\n",
    "    if flatten:\n",
    "        x = x.reshape((len(x), -1))\n",
    "    return x\n",
    "\n",
    "def preproc_y(y, num_classes=10):\n",
    "    if y.shape[-1] == 1:\n",
    "        y = keras.utils.to_categorical(y, num_classes)\n",
    "    return y    "
   ]
  },
  {
   "cell_type": "code",
   "execution_count": 4,
   "metadata": {},
   "outputs": [],
   "source": [
    "x_train, y_train = train\n",
    "x_test, y_test = test\n",
    "\n",
    "# Preproc the inputs\n",
    "x_train = preproc_x(x_train)\n",
    "x_test = preproc_x(x_test)\n",
    "\n",
    "# Preprc the outputs\n",
    "y_train = preproc_y(y_train)\n",
    "y_test = preproc_y(y_test)"
   ]
  },
  {
   "cell_type": "code",
   "execution_count": 5,
   "metadata": {},
   "outputs": [],
   "source": [
    "from keras.layers import BatchNormalization\n",
    "def build_mlp(input_shape, output_units=10, num_neurons=[256, 256, 256]):\n",
    "    input_layer = keras.layers.Input(input_shape)\n",
    "    \n",
    "    for i, n_units in enumerate(num_neurons):\n",
    "        if i == 0:\n",
    "            x = keras.layers.Dense(units=n_units, \n",
    "                                   activation=\"relu\", \n",
    "                                   name=\"hidden_layer\"+str(i+1))(input_layer)\n",
    "            x = BatchNormalization()(x)\n",
    "        else:\n",
    "            x = keras.layers.Dense(units=n_units, \n",
    "                                   activation=\"relu\", \n",
    "                                   name=\"hidden_layer\"+str(i+1))(x)\n",
    "            x = BatchNormalization()(x)\n",
    "    \n",
    "    out = keras.layers.Dense(units=output_units, activation=\"softmax\", name=\"output\")(x)\n",
    "    \n",
    "    model = keras.models.Model(inputs=[input_layer], outputs=[out])\n",
    "    return model"
   ]
  },
  {
   "cell_type": "code",
   "execution_count": 6,
   "metadata": {},
   "outputs": [],
   "source": [
    "## 超參數設定\n",
    "LEARNING_RATE = 1e-3\n",
    "EPOCHS = 25\n",
    "BATCH_SIZE = 1024\n",
    "MOMENTUM = 0.95"
   ]
  },
  {
   "cell_type": "code",
   "execution_count": 9,
   "metadata": {},
   "outputs": [],
   "source": [
    "# 載入 Callbacks\n",
    "from keras.callbacks import Callback\n",
    "\n",
    "\n",
    "# Record_fp_tp\n",
    "class Record_tp_tn(Callback):\n",
    "    def on_train_begin(self, epoch, logs = {}):\n",
    "        logs = logs or {}\n",
    "        record_items = [\"val_auc\", \"val_f1sc\", \"val_fp\", \"val_fn\", \"val_tp\", \"val_tn\"]\n",
    "        for i in record_items:\n",
    "            if i not in self.params['metrics']:\n",
    "                self.params['metrics'].append(i)\n",
    "    def on_epoch_end(self, epoch, logs = {}, thres=0.5):\n",
    "        logs = logs or {}\n",
    "        y_true = self.validation_data[1].argmax(axis = 1)\n",
    "        y_pred = self.model.predict(self.validation_data[0])\n",
    "        y_pred = (y_pred[:, 1] >= thres) * 1\n",
    "        \n",
    "        cm = confusion_matrix(y_true, y_pred)\n",
    "        logs['Val_TP'] = cm[0][0]\n",
    "        logs['Val_TN'] = cm[1][1]\n",
    "           \n",
    "rec_tptn = Record_tp_tn()"
   ]
  },
  {
   "cell_type": "code",
   "execution_count": 11,
   "metadata": {
    "scrolled": true
   },
   "outputs": [
    {
     "name": "stdout",
     "output_type": "stream",
     "text": [
      "_________________________________________________________________\n",
      "Layer (type)                 Output Shape              Param #   \n",
      "=================================================================\n",
      "input_2 (InputLayer)         (None, 3072)              0         \n",
      "_________________________________________________________________\n",
      "hidden_layer1 (Dense)        (None, 256)               786688    \n",
      "_________________________________________________________________\n",
      "batch_normalization_4 (Batch (None, 256)               1024      \n",
      "_________________________________________________________________\n",
      "hidden_layer2 (Dense)        (None, 256)               65792     \n",
      "_________________________________________________________________\n",
      "batch_normalization_5 (Batch (None, 256)               1024      \n",
      "_________________________________________________________________\n",
      "hidden_layer3 (Dense)        (None, 256)               65792     \n",
      "_________________________________________________________________\n",
      "batch_normalization_6 (Batch (None, 256)               1024      \n",
      "_________________________________________________________________\n",
      "output (Dense)               (None, 10)                2570      \n",
      "=================================================================\n",
      "Total params: 923,914\n",
      "Trainable params: 922,378\n",
      "Non-trainable params: 1,536\n",
      "_________________________________________________________________\n",
      "Train on 50000 samples, validate on 10000 samples\n",
      "Epoch 1/25\n",
      "50000/50000 [==============================] - 9s 172us/step - loss: 2.2250 - acc: 0.2704 - val_loss: 2.1630 - val_acc: 0.3097\n",
      "Epoch 2/25\n",
      "50000/50000 [==============================] - 7s 133us/step - loss: 1.7624 - acc: 0.3882 - val_loss: 1.9010 - val_acc: 0.3657\n",
      "Epoch 3/25\n",
      "50000/50000 [==============================] - 6s 126us/step - loss: 1.6393 - acc: 0.4251 - val_loss: 1.7105 - val_acc: 0.4014\n",
      "Epoch 4/25\n",
      "50000/50000 [==============================] - 6s 127us/step - loss: 1.5659 - acc: 0.4498 - val_loss: 1.6576 - val_acc: 0.4247\n",
      "Epoch 5/25\n",
      "50000/50000 [==============================] - 6s 127us/step - loss: 1.5099 - acc: 0.4703 - val_loss: 1.6155 - val_acc: 0.4358\n",
      "Epoch 6/25\n",
      "50000/50000 [==============================] - 6s 125us/step - loss: 1.4655 - acc: 0.4865 - val_loss: 1.5699 - val_acc: 0.4447\n",
      "Epoch 7/25\n",
      "50000/50000 [==============================] - 6s 125us/step - loss: 1.4294 - acc: 0.4977 - val_loss: 1.5466 - val_acc: 0.4555\n",
      "Epoch 8/25\n",
      "50000/50000 [==============================] - 6s 126us/step - loss: 1.3959 - acc: 0.5100 - val_loss: 1.5294 - val_acc: 0.4597\n",
      "Epoch 9/25\n",
      "50000/50000 [==============================] - 7s 132us/step - loss: 1.3667 - acc: 0.5219 - val_loss: 1.5154 - val_acc: 0.4666\n",
      "Epoch 10/25\n",
      "50000/50000 [==============================] - 6s 129us/step - loss: 1.3389 - acc: 0.5319 - val_loss: 1.4960 - val_acc: 0.4735\n",
      "Epoch 11/25\n",
      "50000/50000 [==============================] - 6s 130us/step - loss: 1.3153 - acc: 0.5414 - val_loss: 1.4945 - val_acc: 0.4677\n",
      "Epoch 12/25\n",
      "50000/50000 [==============================] - 7s 130us/step - loss: 1.2914 - acc: 0.5504 - val_loss: 1.4798 - val_acc: 0.4764\n",
      "Epoch 13/25\n",
      "50000/50000 [==============================] - 7s 131us/step - loss: 1.2686 - acc: 0.5592 - val_loss: 1.4669 - val_acc: 0.4797\n",
      "Epoch 14/25\n",
      "50000/50000 [==============================] - 6s 129us/step - loss: 1.2475 - acc: 0.5671 - val_loss: 1.4719 - val_acc: 0.4806\n",
      "Epoch 15/25\n",
      "50000/50000 [==============================] - 6s 129us/step - loss: 1.2262 - acc: 0.5746 - val_loss: 1.4601 - val_acc: 0.4854\n",
      "Epoch 16/25\n",
      "50000/50000 [==============================] - 7s 130us/step - loss: 1.2070 - acc: 0.5822 - val_loss: 1.4613 - val_acc: 0.4841\n",
      "Epoch 17/25\n",
      "50000/50000 [==============================] - 6s 130us/step - loss: 1.1881 - acc: 0.5904 - val_loss: 1.4634 - val_acc: 0.4858\n",
      "Epoch 18/25\n",
      "50000/50000 [==============================] - 6s 128us/step - loss: 1.1701 - acc: 0.5952 - val_loss: 1.4573 - val_acc: 0.4926\n",
      "Epoch 19/25\n",
      "50000/50000 [==============================] - 6s 127us/step - loss: 1.1510 - acc: 0.6030 - val_loss: 1.4506 - val_acc: 0.4926\n",
      "Epoch 20/25\n",
      "50000/50000 [==============================] - 6s 127us/step - loss: 1.1329 - acc: 0.6102 - val_loss: 1.4440 - val_acc: 0.4947\n",
      "Epoch 21/25\n",
      "50000/50000 [==============================] - 6s 127us/step - loss: 1.1168 - acc: 0.6163 - val_loss: 1.4507 - val_acc: 0.4950\n",
      "Epoch 22/25\n",
      "50000/50000 [==============================] - 6s 129us/step - loss: 1.0983 - acc: 0.6248 - val_loss: 1.4593 - val_acc: 0.4953\n",
      "Epoch 23/25\n",
      "50000/50000 [==============================] - 6s 127us/step - loss: 1.0814 - acc: 0.6291 - val_loss: 1.4441 - val_acc: 0.4959\n",
      "Epoch 24/25\n",
      "50000/50000 [==============================] - 6s 129us/step - loss: 1.0643 - acc: 0.6357 - val_loss: 1.4394 - val_acc: 0.5003\n",
      "Epoch 25/25\n",
      "50000/50000 [==============================] - 7s 144us/step - loss: 1.0489 - acc: 0.6427 - val_loss: 1.4419 - val_acc: 0.4986\n"
     ]
    }
   ],
   "source": [
    "model = build_mlp(input_shape=x_train.shape[1:])\n",
    "model.summary()\n",
    "optimizer = keras.optimizers.SGD(lr=LEARNING_RATE, nesterov=True, momentum=MOMENTUM)\n",
    "model.compile(loss=\"categorical_crossentropy\", metrics=[\"accuracy\"], optimizer=optimizer)\n",
    "\n",
    "\"\"\"\n",
    "To do:\n",
    "Fit the model with rec_tptn callback_fn\n",
    "\"\"\"\n",
    "model.fit(x_train, y_train, \n",
    "          epochs=EPOCHS, \n",
    "          batch_size=BATCH_SIZE, \n",
    "          validation_data=(x_test, y_test), \n",
    "          shuffle=True,\n",
    "          callbacks=[rec_tptn])\n",
    "\n",
    "# Collect results\n",
    "train_loss = model.history.history[\"loss\"]\n",
    "valid_loss = model.history.history[\"val_loss\"]\n",
    "train_acc = model.history.history[\"acc\"]\n",
    "valid_acc = model.history.history[\"val_acc\"]\n",
    "\n",
    "\"\"\"\n",
    "To do:\n",
    "Collect tp/tn from model history\n",
    "\"\"\"\n",
    "valid_tp = model.history.history['Val_TP']\n",
    "valid_tn = model.history.history['Val_TN']"
   ]
  },
  {
   "cell_type": "code",
   "execution_count": 12,
   "metadata": {},
   "outputs": [
    {
     "data": {
      "image/png": "[encoded data removed]",
      "text/plain": [
       "<Figure size 432x288 with 1 Axes>"
      ]
     },
     "metadata": {
      "needs_background": "light"
     },
     "output_type": "display_data"
    },
    {
     "data": {
      "image/png": "[encoded data removed]",
      "text/plain": [
       "<Figure size 432x288 with 1 Axes>"
      ]
     },
     "metadata": {
      "needs_background": "light"
     },
     "output_type": "display_data"
    },
    {
     "data": {
      "image/png": "[encoded data removed]",
      "text/plain": [
       "<Figure size 432x288 with 1 Axes>"
      ]
     },
     "metadata": {
      "needs_background": "light"
     },
     "output_type": "display_data"
    }
   ],
   "source": [
    "import matplotlib.pyplot as plt\n",
    "%matplotlib inline\n",
    "\n",
    "plt.plot(range(len(train_loss)), train_loss, label=\"train loss\")\n",
    "plt.plot(range(len(valid_loss)), valid_loss, label=\"valid loss\")\n",
    "plt.legend()\n",
    "plt.title(\"Loss\")\n",
    "plt.show()\n",
    "\n",
    "plt.plot(range(len(train_acc)), train_acc, label=\"train accuracy\")\n",
    "plt.plot(range(len(valid_acc)), valid_acc, label=\"valid accuracy\")\n",
    "plt.legend()\n",
    "plt.title(\"Accuracy\")\n",
    "plt.show()\n",
    "\n",
    "plt.plot(range(len(valid_tp)), valid_tp, label=\"valid tp\", color=\"navy\")\n",
    "plt.plot(range(len(valid_tn)), valid_tn, label=\"valid tn\", color=\"red\")\n",
    "plt.legend()\n",
    "plt.title(\"True positives and True Negatives\")\n",
    "plt.show()\n"
   ]
  },
  {
   "cell_type": "code",
   "execution_count": null,
   "metadata": {},
   "outputs": [],
   "source": []
  }
 ],
 "metadata": {
  "kernelspec": {
   "display_name": "Python 3",
   "language": "python",
   "name": "python3"
  },
  "language_info": {
   "codemirror_mode": {
    "name": "ipython",
    "version": 3
   },
   "file_extension": ".py",
   "mimetype": "text/x-python",
   "name": "python",
   "nbconvert_exporter": "python",
   "pygments_lexer": "ipython3",
   "version": "3.6.5"
  }
 },
 "nbformat": 4,
 "nbformat_minor": 2
}
