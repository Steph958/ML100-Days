{
 "cells": [
  {
   "cell_type": "markdown",
   "metadata": {},
   "source": [
    "## 練習時間\n",
    "試著使用 sklearn datasets 的其他資料集 (boston, ...)，來訓練自己的線性迴歸模型，並加上適當的正則話來觀察訓練情形。"
   ]
  },
  {
   "cell_type": "code",
   "execution_count": 1,
   "metadata": {},
   "outputs": [],
   "source": [
    "import numpy as np\n",
    "import pandas as pd\n",
    "import matplotlib.pyplot as plt\n",
    "from sklearn import datasets, linear_model\n",
    "from sklearn.model_selection import train_test_split\n",
    "from sklearn.metrics import mean_squared_error, r2_score, accuracy_score"
   ]
  },
  {
   "cell_type": "code",
   "execution_count": 2,
   "metadata": {},
   "outputs": [],
   "source": [
    "boston = datasets.load_boston()\n"
   ]
  },
  {
   "cell_type": "code",
   "execution_count": 6,
   "metadata": {
    "scrolled": true
   },
   "outputs": [
    {
     "name": "stdout",
     "output_type": "stream",
     "text": [
      "Lasso MSE: 35.75973517500588\n",
      "Ridge MSE: 36.07509208896773\n"
     ]
    }
   ],
   "source": [
    "X= boston.data\n",
    "y = boston.target\n",
    "X_train, X_test, y_train, y_test = train_test_split(X,y, test_size =0.1)\n",
    "lasso = linear_model.Lasso(alpha = 1.0)\n",
    "ridge = linear_model.Ridge(alpha = 1.0)\n",
    "lasso.fit(X_train, y_train)\n",
    "ridge.fit(X_train, y_train)\n",
    "y_pred = lasso.predict(X_test)\n",
    "print(f'Lasso MSE: {mean_squared_error(y_test,y_pred)}')\n",
    "y_pred = ridge.predict(X_test)\n",
    "print(f'Ridge MSE: {mean_squared_error(y_test,y_pred)}')\n"
   ]
  },
  {
   "cell_type": "code",
   "execution_count": 8,
   "metadata": {},
   "outputs": [
    {
     "data": {
      "text/plain": [
       "array([-0.07034499,  0.0417824 , -0.        ,  0.        , -0.        ,\n",
       "        1.37433885,  0.01432351, -0.60338718,  0.27316542, -0.01553885,\n",
       "       -0.72929686,  0.00994312, -0.70501788])"
      ]
     },
     "execution_count": 8,
     "metadata": {},
     "output_type": "execute_result"
    }
   ],
   "source": [
    "lasso.coef_"
   ]
  },
  {
   "cell_type": "code",
   "execution_count": 20,
   "metadata": {},
   "outputs": [
    {
     "name": "stderr",
     "output_type": "stream",
     "text": [
      "C:\\Users\\cptien\\AppData\\Local\\Continuum\\anaconda3\\lib\\site-packages\\ipykernel_launcher.py:9: UserWarning: With alpha=0, this algorithm does not converge well. You are advised to use the LinearRegression estimator\n",
      "  if __name__ == '__main__':\n",
      "C:\\Users\\cptien\\AppData\\Local\\Continuum\\anaconda3\\lib\\site-packages\\sklearn\\linear_model\\coordinate_descent.py:478: UserWarning: Coordinate descent with no regularization may lead to unexpected results and is discouraged.\n",
      "  positive)\n",
      "C:\\Users\\cptien\\AppData\\Local\\Continuum\\anaconda3\\lib\\site-packages\\sklearn\\linear_model\\coordinate_descent.py:492: ConvergenceWarning: Objective did not converge. You might want to increase the number of iterations. Fitting data with very small alpha may cause precision problems.\n",
      "  ConvergenceWarning)\n"
     ]
    }
   ],
   "source": [
    "lasso_coef = []\n",
    "ridge_coef = []\n",
    "lasso_errors = []\n",
    "ridge_errors = []\n",
    "alpha = np.linspace(0,1,20)\n",
    "for a in alpha:\n",
    "    lasso = linear_model.Lasso(alpha=a)\n",
    "    ridge = linear_model.Ridge(alpha=a)\n",
    "    lasso.fit(X_train, y_train)\n",
    "    ridge.fit(X_train, y_train)\n",
    "    lasso_coef.append(lasso.coef_)\n",
    "    ridge_coef.append(ridge.coef_)\n",
    "    lasso_errors.append(mean_squared_error(y_test,lasso.predict(X_test)))\n",
    "    ridge_errors.append(mean_squared_error(y_test,ridge.predict(X_test)))"
   ]
  },
  {
   "cell_type": "code",
   "execution_count": 21,
   "metadata": {},
   "outputs": [
    {
     "data": {
      "text/plain": [
       "[array([-1.11362665e-01,  3.90784349e-02,  4.68530543e-03,  2.32020084e+00,\n",
       "        -1.54669001e+01,  4.28704428e+00, -9.00526977e-03, -1.39213671e+00,\n",
       "         2.92739135e-01, -1.19444327e-02, -9.52845014e-01,  1.07999203e-02,\n",
       "        -4.66199901e-01]),\n",
       " array([-0.10363395,  0.04022873, -0.0561102 ,  1.32885647, -0.        ,\n",
       "         4.32306062, -0.02075489, -1.13582166,  0.26721428, -0.01378453,\n",
       "        -0.7838783 ,  0.01166485, -0.49276637]),\n",
       " array([-0.10327041,  0.04033619, -0.04714289,  0.47427269, -0.        ,\n",
       "         4.16093827, -0.01775303, -1.10776236,  0.27511345, -0.01432859,\n",
       "        -0.79219114,  0.01168138, -0.50799172]),\n",
       " array([-0.1021758 ,  0.04046068, -0.04106121,  0.        , -0.        ,\n",
       "         3.99669116, -0.01507145, -1.07773259,  0.27938874, -0.01465962,\n",
       "        -0.79491237,  0.01164171, -0.52184291]),\n",
       " array([-0.10016976,  0.04060648, -0.03857702,  0.        , -0.        ,\n",
       "         3.82979269, -0.01278922, -1.04524337,  0.27914887, -0.0147252 ,\n",
       "        -0.79066156,  0.01153198, -0.53398028]),\n",
       " array([-0.09816133,  0.04075148, -0.03609664,  0.        , -0.        ,\n",
       "         3.66291874, -0.01050728, -1.01275481,  0.2788922 , -0.01478999,\n",
       "        -0.78640759,  0.01142221, -0.54611653]),\n",
       " array([-0.09615523,  0.04089727, -0.03361256,  0.        , -0.        ,\n",
       "         3.49602094, -0.00822506, -0.98026562,  0.27865187, -0.01485555,\n",
       "        -0.78215669,  0.01131247, -0.55825386]),\n",
       " array([-0.09414663,  0.04104222, -0.03113251,  0.        , -0.        ,\n",
       "         3.32914864, -0.00594314, -0.94777722,  0.27839394, -0.01492027,\n",
       "        -0.77790245,  0.0112027 , -0.57039004]),\n",
       " array([-0.09214046,  0.04118798, -0.02864854,  0.        , -0.        ,\n",
       "         3.16225159, -0.00366092, -0.91528806,  0.27815312, -0.01498581,\n",
       "        -0.77365145,  0.01109296, -0.58252733]),\n",
       " array([-9.01314620e-02,  4.13328050e-02, -2.61691547e-02,  0.00000000e+00,\n",
       "        -0.00000000e+00,  2.99538308e+00, -1.37904232e-03, -8.82799891e-01,\n",
       "         2.77892379e-01, -1.50503986e-02, -7.69396634e-01,  1.09831850e-02,\n",
       "        -5.94663352e-01]),\n",
       " array([-0.08815684,  0.04135687, -0.02335874,  0.        , -0.        ,\n",
       "         2.83467703, -0.        , -0.85591356,  0.27741525, -0.01510022,\n",
       "        -0.76546073,  0.01088108, -0.60541907]),\n",
       " array([-0.08622929,  0.04119468, -0.02004675,  0.        , -0.        ,\n",
       "         2.68343988,  0.        , -0.83757243,  0.27657466, -0.01512601,\n",
       "        -0.7620074 ,  0.01079065, -0.61406456]),\n",
       " array([-8.42679034e-02,  4.11613886e-02, -1.70813102e-02,  0.00000000e+00,\n",
       "        -0.00000000e+00,  2.52564225e+00,  9.57620716e-04, -8.13290000e-01,\n",
       "         2.75982248e-01, -1.51683465e-02, -7.58219660e-01,  1.06921295e-02,\n",
       "        -6.24174799e-01]),\n",
       " array([-0.08227387,  0.04125617, -0.01446211,  0.        , -0.        ,\n",
       "         2.36133188,  0.00286393, -0.78313063,  0.27563717, -0.01522708,\n",
       "        -0.75409902,  0.01058556, -0.63573677]),\n",
       " array([-0.08027971,  0.04135091, -0.01184309,  0.        , -0.        ,\n",
       "         2.19702295,  0.00477021, -0.75297125,  0.27529123, -0.01528577,\n",
       "        -0.74997826,  0.01047899, -0.64729867]),\n",
       " array([-0.07828552,  0.04144564, -0.00922413,  0.        , -0.        ,\n",
       "         2.03271419,  0.0066765 , -0.7228119 ,  0.27494507, -0.01534445,\n",
       "        -0.74585742,  0.01037242, -0.65886057]),\n",
       " array([-0.07629124,  0.04154033, -0.0066053 ,  0.        , -0.        ,\n",
       "         1.86840647,  0.00858277, -0.69265254,  0.27459827, -0.0154031 ,\n",
       "        -0.74173649,  0.01026585, -0.67042241]),\n",
       " array([-0.07429309,  0.04163374, -0.00399263,  0.        , -0.        ,\n",
       "         1.70413806,  0.01048859, -0.66249425,  0.27422436, -0.01546047,\n",
       "        -0.73761045,  0.01015923, -0.68198248]),\n",
       " array([-7.22986289e-02,  4.17283776e-02, -1.37404465e-03,  0.00000000e+00,\n",
       "        -0.00000000e+00,  1.53983210e+00,  1.23948450e-02, -6.32334879e-01,\n",
       "         2.73876355e-01, -1.55190657e-02, -7.33489299e-01,  1.00526600e-02,\n",
       "        -6.93544256e-01]),\n",
       " array([-0.07034499,  0.0417824 , -0.        ,  0.        , -0.        ,\n",
       "         1.37433885,  0.01432351, -0.60338718,  0.27316542, -0.01553885,\n",
       "        -0.72929686,  0.00994312, -0.70501788])]"
      ]
     },
     "execution_count": 21,
     "metadata": {},
     "output_type": "execute_result"
    }
   ],
   "source": [
    "lasso_coef"
   ]
  },
  {
   "cell_type": "code",
   "execution_count": 22,
   "metadata": {},
   "outputs": [
    {
     "data": {
      "image/png": "[encoded data removed]",
      "text/plain": [
       "<Figure size 432x288 with 1 Axes>"
      ]
     },
     "metadata": {
      "needs_background": "light"
     },
     "output_type": "display_data"
    }
   ],
   "source": [
    "# 获得绘图句柄\n",
    "ax = plt.gca()\n",
    "# 参数中每一个维度使用一个颜色表示\n",
    "# ax.set_color_cycle(['b', 'r', 'g', 'c', 'k'])\n",
    "\n",
    "# 绘制alpha和对应的参数之间的关系图\n",
    "ax.plot(alpha, lasso_coef)\n",
    "# ax.set_xscale('log')    #x轴使用对数表示\n",
    "# ax.set_xlim(ax.get_xlim()[::-1])  # 将x轴反转，便于显示\n",
    "plt.grid()\n",
    "plt.xlabel('alpha')\n",
    "plt.ylabel('weights')\n",
    "plt.title('Lasso coefficients as a function of the regularization')\n",
    "# plt.axis('tight')\n",
    "plt.show()\n"
   ]
  },
  {
   "cell_type": "code",
   "execution_count": 23,
   "metadata": {},
   "outputs": [
    {
     "data": {
      "image/png": "[encoded data removed]",
      "text/plain": [
       "<Figure size 432x288 with 1 Axes>"
      ]
     },
     "metadata": {
      "needs_background": "light"
     },
     "output_type": "display_data"
    }
   ],
   "source": [
    "ax = plt.gca()\n",
    "# 参数中每一个维度使用一个颜色表示\n",
    "# ax.set_color_cycle(['b', 'r', 'g', 'c', 'k'])\n",
    "\n",
    "# 绘制alpha和对应的参数之间的关系图\n",
    "ax.plot(alpha, ridge_coef)\n",
    "# ax.set_xscale('log')    #x轴使用对数表示\n",
    "# ax.set_xlim(ax.get_xlim()[::-1])  # 将x轴反转，便于显示\n",
    "plt.grid()\n",
    "plt.xlabel('alpha')\n",
    "plt.ylabel('weights')\n",
    "plt.title('Ridge coefficients as a function of the regularization')\n",
    "# plt.axis('tight')\n",
    "plt.show()"
   ]
  },
  {
   "cell_type": "code",
   "execution_count": 24,
   "metadata": {},
   "outputs": [
    {
     "data": {
      "text/plain": [
       "[35.10214864237954,\n",
       " 37.9099814554544,\n",
       " 38.05348017938227,\n",
       " 38.03831054898416,\n",
       " 37.7124312142603,\n",
       " 37.410313724823524,\n",
       " 37.13187258354235,\n",
       " 36.877190321609135,\n",
       " 36.646187042074736,\n",
       " 36.438941842242066,\n",
       " 36.28085374510889,\n",
       " 36.18078628188152,\n",
       " 36.072535378699115,\n",
       " 35.96021469214742,\n",
       " 35.87017628621965,\n",
       " 35.802417521708946,\n",
       " 35.75694000988337,\n",
       " 35.73377536867157,\n",
       " 35.73285575908822,\n",
       " 35.75973517500588]"
      ]
     },
     "execution_count": 24,
     "metadata": {},
     "output_type": "execute_result"
    }
   ],
   "source": [
    "lasso_errors"
   ]
  },
  {
   "cell_type": "code",
   "execution_count": 25,
   "metadata": {},
   "outputs": [
    {
     "data": {
      "text/plain": [
       "[35.10214864237951,\n",
       " 35.18128175910997,\n",
       " 35.255920378012824,\n",
       " 35.32640296664842,\n",
       " 35.39303789201726,\n",
       " 35.45610611617885,\n",
       " 35.515863747827254,\n",
       " 35.57254441183045,\n",
       " 35.626361422125086,\n",
       " 35.67750975740008,\n",
       " 35.7261678471234,\n",
       " 35.77249917985672,\n",
       " 35.81665374786045,\n",
       " 35.85876934261604,\n",
       " 35.89897271565967,\n",
       " 35.93738061839936,\n",
       " 35.974100733611934,\n",
       " 36.009232510230895,\n",
       " 36.04286791193362,\n",
       " 36.07509208896773]"
      ]
     },
     "execution_count": 25,
     "metadata": {},
     "output_type": "execute_result"
    }
   ],
   "source": [
    "ridge_errors"
   ]
  },
  {
   "cell_type": "code",
   "execution_count": null,
   "metadata": {},
   "outputs": [],
   "source": []
  }
 ],
 "metadata": {
  "kernelspec": {
   "display_name": "Python 3",
   "language": "python",
   "name": "python3"
  },
  "language_info": {
   "codemirror_mode": {
    "name": "ipython",
    "version": 3
   },
   "file_extension": ".py",
   "mimetype": "text/x-python",
   "name": "python",
   "nbconvert_exporter": "python",
   "pygments_lexer": "ipython3",
   "version": "3.6.5"
  }
 },
 "nbformat": 4,
 "nbformat_minor": 2
}
