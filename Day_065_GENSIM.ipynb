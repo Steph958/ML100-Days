{
 "cells": [
  {
   "cell_type": "code",
   "execution_count": 1,
   "metadata": {
    "scrolled": true
   },
   "outputs": [
    {
     "name": "stdout",
     "output_type": "stream",
     "text": [
      "Collecting gensim\n",
      "  Downloading https://files.pythonhosted.org/packages/54/ee/c1f685caa83ee9b8f54573b51648af61b01377bcc5981a18704f5247cce7/gensim-3.7.1-cp36-cp36m-win_amd64.whl (24.1MB)\n",
      "Collecting smart-open>=1.7.0 (from gensim)\n",
      "  Downloading https://files.pythonhosted.org/packages/ff/c8/de7dcf34d4b5f2ae94fe1055e0d6418fb97a63c9dc3428edd264704983a2/smart_open-1.8.0.tar.gz (40kB)\n",
      "Requirement already satisfied: six>=1.5.0 in c:\\users\\cptien\\appdata\\local\\continuum\\anaconda3\\lib\\site-packages (from gensim) (1.12.0)\n",
      "Requirement already satisfied: scipy>=0.18.1 in c:\\users\\cptien\\appdata\\local\\continuum\\anaconda3\\lib\\site-packages (from gensim) (1.2.0)\n",
      "Requirement already satisfied: numpy>=1.11.3 in c:\\users\\cptien\\appdata\\local\\continuum\\anaconda3\\lib\\site-packages (from gensim) (1.15.4)\n",
      "Requirement already satisfied: boto>=2.32 in c:\\users\\cptien\\appdata\\local\\continuum\\anaconda3\\lib\\site-packages (from smart-open>=1.7.0->gensim) (2.49.0)\n",
      "Collecting bz2file (from smart-open>=1.7.0->gensim)\n",
      "  Downloading https://files.pythonhosted.org/packages/61/39/122222b5e85cd41c391b68a99ee296584b2a2d1d233e7ee32b4532384f2d/bz2file-0.98.tar.gz\n",
      "Requirement already satisfied: requests in c:\\users\\cptien\\appdata\\local\\continuum\\anaconda3\\lib\\site-packages (from smart-open>=1.7.0->gensim) (2.21.0)\n",
      "Collecting boto3 (from smart-open>=1.7.0->gensim)\n",
      "  Downloading https://files.pythonhosted.org/packages/28/05/0fa7376d0cd2ba6909122a073c7a808437c91366ee4f1c50a49bf29e3f60/boto3-1.9.110-py2.py3-none-any.whl (128kB)\n",
      "Requirement already satisfied: idna<2.9,>=2.5 in c:\\users\\cptien\\appdata\\local\\continuum\\anaconda3\\lib\\site-packages (from requests->smart-open>=1.7.0->gensim) (2.8)\n",
      "Requirement already satisfied: certifi>=2017.4.17 in c:\\users\\cptien\\appdata\\local\\continuum\\anaconda3\\lib\\site-packages (from requests->smart-open>=1.7.0->gensim) (2018.11.29)\n",
      "Requirement already satisfied: urllib3<1.25,>=1.21.1 in c:\\users\\cptien\\appdata\\local\\continuum\\anaconda3\\lib\\site-packages (from requests->smart-open>=1.7.0->gensim) (1.24.1)\n",
      "Requirement already satisfied: chardet<3.1.0,>=3.0.2 in c:\\users\\cptien\\appdata\\local\\continuum\\anaconda3\\lib\\site-packages (from requests->smart-open>=1.7.0->gensim) (3.0.4)\n",
      "Collecting s3transfer<0.3.0,>=0.2.0 (from boto3->smart-open>=1.7.0->gensim)\n",
      "  Downloading https://files.pythonhosted.org/packages/d7/de/5737f602e22073ecbded7a0c590707085e154e32b68d86545dcc31004c02/s3transfer-0.2.0-py2.py3-none-any.whl (69kB)\n",
      "Collecting jmespath<1.0.0,>=0.7.1 (from boto3->smart-open>=1.7.0->gensim)\n",
      "  Downloading https://files.pythonhosted.org/packages/83/94/7179c3832a6d45b266ddb2aac329e101367fbdb11f425f13771d27f225bb/jmespath-0.9.4-py2.py3-none-any.whl\n",
      "Collecting botocore<1.13.0,>=1.12.110 (from boto3->smart-open>=1.7.0->gensim)\n",
      "  Downloading https://files.pythonhosted.org/packages/77/d8/6f397d296a4b257cd0c1d0bc129d40c74214b3698bfade289f9bdc18be3e/botocore-1.12.110-py2.py3-none-any.whl (5.3MB)\n",
      "Requirement already satisfied: docutils>=0.10 in c:\\users\\cptien\\appdata\\local\\continuum\\anaconda3\\lib\\site-packages (from botocore<1.13.0,>=1.12.110->boto3->smart-open>=1.7.0->gensim) (0.14)\n",
      "Requirement already satisfied: python-dateutil<3.0.0,>=2.1; python_version >= \"2.7\" in c:\\users\\cptien\\appdata\\local\\continuum\\anaconda3\\lib\\site-packages (from botocore<1.13.0,>=1.12.110->boto3->smart-open>=1.7.0->gensim) (2.7.5)\n",
      "Building wheels for collected packages: smart-open, bz2file\n",
      "  Running setup.py bdist_wheel for smart-open: started\n",
      "  Running setup.py bdist_wheel for smart-open: finished with status 'done'\n",
      "  Stored in directory: C:\\Users\\cptien\\AppData\\Local\\pip\\Cache\\wheels\\f7\\a6\\ff\\9ab5842c14e50e95a06a4675b0b4a689c9cab6064dac2b01d0\n",
      "  Running setup.py bdist_wheel for bz2file: started\n",
      "  Running setup.py bdist_wheel for bz2file: finished with status 'done'\n",
      "  Stored in directory: C:\\Users\\cptien\\AppData\\Local\\pip\\Cache\\wheels\\81\\75\\d6\\e1317bf09bf1af5a30befc2a007869fa6e1f516b8f7c591cb9\n",
      "Successfully built smart-open bz2file\n",
      "Installing collected packages: bz2file, jmespath, botocore, s3transfer, boto3, smart-open, gensim\n",
      "Successfully installed boto3-1.9.110 botocore-1.12.110 bz2file-0.98 gensim-3.7.1 jmespath-0.9.4 s3transfer-0.2.0 smart-open-1.8.0\n"
     ]
    }
   ],
   "source": [
    "!pip install gensim"
   ]
  },
  {
   "cell_type": "code",
   "execution_count": 2,
   "metadata": {},
   "outputs": [],
   "source": [
    "import gensim, logging\n",
    "from gensim.models import word2vec"
   ]
  },
  {
   "cell_type": "code",
   "execution_count": 3,
   "metadata": {},
   "outputs": [
    {
     "name": "stderr",
     "output_type": "stream",
     "text": [
      "2019-03-08 10:11:50,554 : INFO : collecting all words and their counts\n",
      "2019-03-08 10:11:50,555 : INFO : PROGRESS: at sentence #0, processed 0 words, keeping 0 word types\n",
      "2019-03-08 10:11:50,556 : INFO : collected 3 word types from a corpus of 4 raw words and 2 sentences\n",
      "2019-03-08 10:11:50,557 : INFO : Loading a fresh vocabulary\n",
      "2019-03-08 10:11:50,557 : INFO : effective_min_count=1 retains 3 unique words (100% of original 3, drops 0)\n",
      "2019-03-08 10:11:50,558 : INFO : effective_min_count=1 leaves 4 word corpus (100% of original 4, drops 0)\n",
      "2019-03-08 10:11:50,559 : INFO : deleting the raw counts dictionary of 3 items\n",
      "2019-03-08 10:11:50,561 : INFO : sample=0.001 downsamples 3 most-common words\n",
      "2019-03-08 10:11:50,561 : INFO : downsampling leaves estimated 0 word corpus (5.7% of prior 4)\n",
      "2019-03-08 10:11:50,562 : INFO : estimated required memory for 3 words and 256 dimensions: 7644 bytes\n",
      "2019-03-08 10:11:50,563 : INFO : resetting layer weights\n",
      "2019-03-08 10:11:50,564 : INFO : training model with 4 workers on 3 vocabulary and 256 features, using sg=0 hs=0 sample=0.001 negative=5 window=5\n",
      "2019-03-08 10:11:50,584 : INFO : worker thread finished; awaiting finish of 3 more threads\n",
      "2019-03-08 10:11:50,586 : INFO : worker thread finished; awaiting finish of 2 more threads\n",
      "2019-03-08 10:11:50,588 : INFO : worker thread finished; awaiting finish of 1 more threads\n",
      "2019-03-08 10:11:50,589 : INFO : worker thread finished; awaiting finish of 0 more threads\n",
      "2019-03-08 10:11:50,589 : INFO : EPOCH - 1 : training on 4 raw words (0 effective words) took 0.0s, 0 effective words/s\n",
      "2019-03-08 10:11:50,652 : INFO : worker thread finished; awaiting finish of 3 more threads\n",
      "2019-03-08 10:11:50,653 : INFO : worker thread finished; awaiting finish of 2 more threads\n",
      "2019-03-08 10:11:50,654 : INFO : worker thread finished; awaiting finish of 1 more threads\n",
      "2019-03-08 10:11:50,654 : INFO : worker thread finished; awaiting finish of 0 more threads\n",
      "2019-03-08 10:11:50,658 : INFO : EPOCH - 2 : training on 4 raw words (0 effective words) took 0.0s, 0 effective words/s\n",
      "2019-03-08 10:11:50,671 : INFO : worker thread finished; awaiting finish of 3 more threads\n",
      "2019-03-08 10:11:50,675 : INFO : worker thread finished; awaiting finish of 2 more threads\n",
      "2019-03-08 10:11:50,677 : INFO : worker thread finished; awaiting finish of 1 more threads\n",
      "2019-03-08 10:11:50,680 : INFO : worker thread finished; awaiting finish of 0 more threads\n",
      "2019-03-08 10:11:50,681 : INFO : EPOCH - 3 : training on 4 raw words (1 effective words) took 0.0s, 96 effective words/s\n",
      "2019-03-08 10:11:50,697 : INFO : worker thread finished; awaiting finish of 3 more threads\n",
      "2019-03-08 10:11:50,698 : INFO : worker thread finished; awaiting finish of 2 more threads\n",
      "2019-03-08 10:11:50,699 : INFO : worker thread finished; awaiting finish of 1 more threads\n",
      "2019-03-08 10:11:50,702 : INFO : worker thread finished; awaiting finish of 0 more threads\n",
      "2019-03-08 10:11:50,702 : INFO : EPOCH - 4 : training on 4 raw words (0 effective words) took 0.0s, 0 effective words/s\n",
      "2019-03-08 10:11:50,714 : INFO : worker thread finished; awaiting finish of 3 more threads\n",
      "2019-03-08 10:11:50,715 : INFO : worker thread finished; awaiting finish of 2 more threads\n",
      "2019-03-08 10:11:50,716 : INFO : worker thread finished; awaiting finish of 1 more threads\n",
      "2019-03-08 10:11:50,717 : INFO : worker thread finished; awaiting finish of 0 more threads\n",
      "2019-03-08 10:11:50,717 : INFO : EPOCH - 5 : training on 4 raw words (0 effective words) took 0.0s, 0 effective words/s\n",
      "2019-03-08 10:11:50,718 : INFO : training on a 20 raw words (1 effective words) took 0.2s, 7 effective words/s\n",
      "2019-03-08 10:11:50,719 : WARNING : under 10 jobs per worker: consider setting a smaller `batch_words' for smoother alpha decay\n"
     ]
    }
   ],
   "source": [
    "import gensim, logging  \n",
    "logging.basicConfig(format='%(asctime)s : %(levelname)s : %(message)s', level=logging.INFO)  \n",
    "  \n",
    "sentences = [['first', 'sentence'], ['second', 'sentence']]  \n",
    "# train word2vec on the two sentences  \n",
    "model = word2vec.Word2Vec(sentences, size=256, min_count=1, window=5, workers=4, sg=0)  \n",
    "\n",
    "# sg=0 表示COBW, sg=1 表示skip-gram"
   ]
  },
  {
   "cell_type": "code",
   "execution_count": 4,
   "metadata": {
    "scrolled": true
   },
   "outputs": [
    {
     "name": "stdout",
     "output_type": "stream",
     "text": [
      "Word2Vec(vocab=3, size=256, alpha=0.025)\n"
     ]
    }
   ],
   "source": [
    "print(model)"
   ]
  },
  {
   "cell_type": "code",
   "execution_count": 5,
   "metadata": {},
   "outputs": [
    {
     "name": "stderr",
     "output_type": "stream",
     "text": [
      "C:\\Users\\cptien\\AppData\\Local\\Continuum\\anaconda3\\lib\\site-packages\\ipykernel_launcher.py:1: DeprecationWarning: Call to deprecated `similarity` (Method will be removed in 4.0.0, use self.wv.similarity() instead).\n",
      "  \"\"\"Entry point for launching an IPython kernel.\n"
     ]
    },
    {
     "data": {
      "text/plain": [
       "-0.05853118"
      ]
     },
     "execution_count": 5,
     "metadata": {},
     "output_type": "execute_result"
    }
   ],
   "source": [
    "model.similarity('first','second')"
   ]
  },
  {
   "cell_type": "code",
   "execution_count": 6,
   "metadata": {},
   "outputs": [
    {
     "name": "stderr",
     "output_type": "stream",
     "text": [
      "2019-03-05 17:19:47,009 : INFO : saving Word2Vec object under mymodel, separately None\n",
      "2019-03-05 17:19:47,014 : INFO : not storing attribute syn0norm\n",
      "2019-03-05 17:19:47,019 : INFO : not storing attribute cum_table\n",
      "2019-03-05 17:19:47,038 : INFO : saved mymodel\n",
      "2019-03-05 17:19:47,040 : INFO : loading Word2Vec object from mymodel\n",
      "2019-03-05 17:19:47,043 : INFO : loading wv recursively from mymodel.wv.* with mmap=None\n",
      "2019-03-05 17:19:47,044 : INFO : setting ignored attribute syn0norm to None\n",
      "2019-03-05 17:19:47,046 : INFO : setting ignored attribute cum_table to None\n",
      "2019-03-05 17:19:47,048 : INFO : loaded mymodel\n"
     ]
    }
   ],
   "source": [
    "model.save('mymodel')  \n",
    "new_model = gensim.models.Word2Vec.load('mymodel')  "
   ]
  },
  {
   "cell_type": "markdown",
   "metadata": {},
   "source": [
    "# 作業:\n",
    "嘗試調整參數:  \n",
    "sg:sg=1表示採用skip-gram,sg=0 表示採用cbow  \n",
    "window:能往左往右看幾個字的意思 "
   ]
  },
  {
   "cell_type": "code",
   "execution_count": null,
   "metadata": {
    "collapsed": true
   },
   "outputs": [],
   "source": []
  }
 ],
 "metadata": {
  "kernelspec": {
   "display_name": "Python 3",
   "language": "python",
   "name": "python3"
  },
  "language_info": {
   "codemirror_mode": {
    "name": "ipython",
    "version": 3
   },
   "file_extension": ".py",
   "mimetype": "text/x-python",
   "name": "python",
   "nbconvert_exporter": "python",
   "pygments_lexer": "ipython3",
   "version": "3.6.5"
  }
 },
 "nbformat": 4,
 "nbformat_minor": 2
}
